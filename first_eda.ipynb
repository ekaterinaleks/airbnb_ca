{
 "cells": [
  {
   "cell_type": "markdown",
   "metadata": {},
   "source": [
    "### Some ideas:\n",
    "- Features of aibnb listings that have the most revenue\n",
    "- Most interesting properties for sale rental-wise"
   ]
  },
  {
   "cell_type": "code",
   "execution_count": 107,
   "metadata": {},
   "outputs": [],
   "source": [
    "import pandas as pd\n",
    "import numpy as np\n",
    "import matplotlib.pyplot as plt\n",
    "import seaborn as sns\n",
    "import re\n",
    "from matplotlib.ticker import StrMethodFormatter"
   ]
  },
  {
   "cell_type": "markdown",
   "metadata": {},
   "source": [
    "First of all, let's read all the available files into dataframes."
   ]
  },
  {
   "cell_type": "code",
   "execution_count": 2,
   "metadata": {},
   "outputs": [],
   "source": [
    "df_airbnb_market = pd.read_excel('market_analysis.xlsx')"
   ]
  },
  {
   "cell_type": "code",
   "execution_count": 3,
   "metadata": {},
   "outputs": [],
   "source": [
    "df_airbnb_amenities = pd.read_excel('amenities.xlsx')"
   ]
  },
  {
   "cell_type": "code",
   "execution_count": 4,
   "metadata": {},
   "outputs": [],
   "source": [
    "df_airbnb_geo = pd.read_excel('geolocation.xlsx')"
   ]
  },
  {
   "cell_type": "code",
   "execution_count": 5,
   "metadata": {},
   "outputs": [],
   "source": [
    "df_sales_92252_total = pd.read_excel('sales_properties_total_zipcode_92252.xlsx')"
   ]
  },
  {
   "cell_type": "code",
   "execution_count": 6,
   "metadata": {},
   "outputs": [],
   "source": [
    "df_sales_92284_total = pd.read_excel('sales_properties_total_zipcode_92284.xlsx')"
   ]
  },
  {
   "cell_type": "code",
   "execution_count": 7,
   "metadata": {},
   "outputs": [],
   "source": [
    "df_sales_92314_total = pd.read_excel('sales_properties_total_zipcode_92314.xlsx')"
   ]
  },
  {
   "cell_type": "code",
   "execution_count": 8,
   "metadata": {},
   "outputs": [],
   "source": [
    "df_sales_92315_total = pd.read_excel('sales_properties_total_zipcode_92315.xlsx')"
   ]
  },
  {
   "cell_type": "code",
   "execution_count": 9,
   "metadata": {},
   "outputs": [],
   "source": [
    "df_sales_92252_pool = pd.read_excel('sales_properties_with_pool_zipcode_92252.xlsx')"
   ]
  },
  {
   "cell_type": "code",
   "execution_count": 10,
   "metadata": {},
   "outputs": [],
   "source": [
    "df_sales_92284_pool = pd.read_excel('sales_properties_with_pool_zipcode_92284.xlsx')"
   ]
  },
  {
   "cell_type": "markdown",
   "metadata": {},
   "source": [
    "# General overview of available dataframes\n",
    "(type of information available, aggregation levels, distribution of values, general quality)"
   ]
  },
  {
   "cell_type": "markdown",
   "metadata": {},
   "source": [
    "## Airbnb related files"
   ]
  },
  {
   "cell_type": "markdown",
   "metadata": {},
   "source": [
    "Let's have a look at the dataframes' dimensions:"
   ]
  },
  {
   "cell_type": "code",
   "execution_count": 11,
   "metadata": {},
   "outputs": [
    {
     "name": "stdout",
     "output_type": "stream",
     "text": [
      "The Market Analysis dataframe has 29928 rows and 14 columns.\n",
      "The Amenities dataframe has 49311 rows and 4 columns.\n",
      "The Geolocation dataframe has 49311 rows and 5 columns.\n"
     ]
    }
   ],
   "source": [
    "print(f'The Market Analysis dataframe has {df_airbnb_market.shape[0]} rows and {df_airbnb_market.shape[1]} columns.')\n",
    "print(f'The Amenities dataframe has {df_airbnb_amenities.shape[0]} rows and {df_airbnb_amenities.shape[1]} columns.')\n",
    "print(f'The Geolocation dataframe has {df_airbnb_geo.shape[0]} rows and {df_airbnb_geo.shape[1]} columns.')"
   ]
  },
  {
   "cell_type": "markdown",
   "metadata": {},
   "source": [
    "Apparently they don't have the same number of rows, probably because of different aggregation levels or different number of listings."
   ]
  },
  {
   "cell_type": "markdown",
   "metadata": {},
   "source": [
    "### Market Analysis dataframe"
   ]
  },
  {
   "cell_type": "code",
   "execution_count": 12,
   "metadata": {},
   "outputs": [
    {
     "data": {
      "text/html": [
       "<div>\n",
       "<style scoped>\n",
       "    .dataframe tbody tr th:only-of-type {\n",
       "        vertical-align: middle;\n",
       "    }\n",
       "\n",
       "    .dataframe tbody tr th {\n",
       "        vertical-align: top;\n",
       "    }\n",
       "\n",
       "    .dataframe thead th {\n",
       "        text-align: right;\n",
       "    }\n",
       "</style>\n",
       "<table border=\"1\" class=\"dataframe\">\n",
       "  <thead>\n",
       "    <tr style=\"text-align: right;\">\n",
       "      <th></th>\n",
       "      <th>unified_id</th>\n",
       "      <th>month</th>\n",
       "      <th>zipcode</th>\n",
       "      <th>city</th>\n",
       "      <th>host_type</th>\n",
       "      <th>bedrooms</th>\n",
       "      <th>bathrooms</th>\n",
       "      <th>guests</th>\n",
       "      <th>revenue</th>\n",
       "      <th>openness</th>\n",
       "      <th>occupancy</th>\n",
       "      <th>nightly rate</th>\n",
       "      <th>lead time</th>\n",
       "      <th>length stay</th>\n",
       "    </tr>\n",
       "  </thead>\n",
       "  <tbody>\n",
       "    <tr>\n",
       "      <th>0</th>\n",
       "      <td>AIR10000347</td>\n",
       "      <td>2019-1</td>\n",
       "      <td>92315</td>\n",
       "      <td>Big Bear Lake</td>\n",
       "      <td>2-5 Units</td>\n",
       "      <td>3</td>\n",
       "      <td>2.0</td>\n",
       "      <td>10</td>\n",
       "      <td>13948.759735</td>\n",
       "      <td>31</td>\n",
       "      <td>1.000000</td>\n",
       "      <td>449.959991</td>\n",
       "      <td>8.0</td>\n",
       "      <td>65.0</td>\n",
       "    </tr>\n",
       "    <tr>\n",
       "      <th>1</th>\n",
       "      <td>AIR10000347</td>\n",
       "      <td>2019-10</td>\n",
       "      <td>92315</td>\n",
       "      <td>Big Bear Lake</td>\n",
       "      <td>2-5 Units</td>\n",
       "      <td>3</td>\n",
       "      <td>2.0</td>\n",
       "      <td>10</td>\n",
       "      <td>449.959991</td>\n",
       "      <td>31</td>\n",
       "      <td>0.032258</td>\n",
       "      <td>449.959991</td>\n",
       "      <td>8.0</td>\n",
       "      <td>1.0</td>\n",
       "    </tr>\n",
       "    <tr>\n",
       "      <th>2</th>\n",
       "      <td>AIR10000347</td>\n",
       "      <td>2019-11</td>\n",
       "      <td>92315</td>\n",
       "      <td>Big Bear Lake</td>\n",
       "      <td>2-5 Units</td>\n",
       "      <td>3</td>\n",
       "      <td>2.0</td>\n",
       "      <td>10</td>\n",
       "      <td>0.000000</td>\n",
       "      <td>30</td>\n",
       "      <td>0.000000</td>\n",
       "      <td>NaN</td>\n",
       "      <td>NaN</td>\n",
       "      <td>NaN</td>\n",
       "    </tr>\n",
       "  </tbody>\n",
       "</table>\n",
       "</div>"
      ],
      "text/plain": [
       "    unified_id    month  zipcode           city  host_type  bedrooms  \\\n",
       "0  AIR10000347   2019-1    92315  Big Bear Lake  2-5 Units         3   \n",
       "1  AIR10000347  2019-10    92315  Big Bear Lake  2-5 Units         3   \n",
       "2  AIR10000347  2019-11    92315  Big Bear Lake  2-5 Units         3   \n",
       "\n",
       "   bathrooms guests       revenue  openness  occupancy  nightly rate  \\\n",
       "0        2.0     10  13948.759735        31   1.000000    449.959991   \n",
       "1        2.0     10    449.959991        31   0.032258    449.959991   \n",
       "2        2.0     10      0.000000        30   0.000000           NaN   \n",
       "\n",
       "   lead time  length stay  \n",
       "0        8.0         65.0  \n",
       "1        8.0          1.0  \n",
       "2        NaN          NaN  "
      ]
     },
     "execution_count": 12,
     "metadata": {},
     "output_type": "execute_result"
    }
   ],
   "source": [
    "df_airbnb_market.head(3)"
   ]
  },
  {
   "cell_type": "code",
   "execution_count": 13,
   "metadata": {},
   "outputs": [
    {
     "name": "stdout",
     "output_type": "stream",
     "text": [
      "<class 'pandas.core.frame.DataFrame'>\n",
      "RangeIndex: 29928 entries, 0 to 29927\n",
      "Data columns (total 14 columns):\n",
      " #   Column        Non-Null Count  Dtype  \n",
      "---  ------        --------------  -----  \n",
      " 0   unified_id    29928 non-null  object \n",
      " 1   month         29928 non-null  object \n",
      " 2   zipcode       29928 non-null  int64  \n",
      " 3   city          29928 non-null  object \n",
      " 4   host_type     29928 non-null  object \n",
      " 5   bedrooms      29928 non-null  int64  \n",
      " 6   bathrooms     29928 non-null  float64\n",
      " 7   guests        29928 non-null  object \n",
      " 8   revenue       29912 non-null  float64\n",
      " 9   openness      29928 non-null  int64  \n",
      " 10  occupancy     29928 non-null  float64\n",
      " 11  nightly rate  23486 non-null  float64\n",
      " 12  lead time     21897 non-null  float64\n",
      " 13  length stay   21897 non-null  float64\n",
      "dtypes: float64(6), int64(3), object(5)\n",
      "memory usage: 2.6+ MB\n"
     ]
    }
   ],
   "source": [
    "df_airbnb_market.info()"
   ]
  },
  {
   "cell_type": "code",
   "execution_count": 14,
   "metadata": {},
   "outputs": [
    {
     "data": {
      "text/plain": [
       "unified_id         0\n",
       "month              0\n",
       "zipcode            0\n",
       "city               0\n",
       "host_type          0\n",
       "bedrooms           0\n",
       "bathrooms          0\n",
       "guests             0\n",
       "revenue           16\n",
       "openness           0\n",
       "occupancy          0\n",
       "nightly rate    6442\n",
       "lead time       8031\n",
       "length stay     8031\n",
       "dtype: int64"
      ]
     },
     "execution_count": 14,
     "metadata": {},
     "output_type": "execute_result"
    }
   ],
   "source": [
    "df_airbnb_market.isna().sum()"
   ]
  },
  {
   "cell_type": "code",
   "execution_count": 15,
   "metadata": {},
   "outputs": [
    {
     "data": {
      "text/plain": [
       "0"
      ]
     },
     "execution_count": 15,
     "metadata": {},
     "output_type": "execute_result"
    }
   ],
   "source": [
    "df_airbnb_market.duplicated().sum()"
   ]
  },
  {
   "cell_type": "markdown",
   "metadata": {},
   "source": [
    "There are no duplicates. There are some null values, but their amount isn't critical. They will be explored in more detail further on."
   ]
  },
  {
   "cell_type": "code",
   "execution_count": 16,
   "metadata": {},
   "outputs": [],
   "source": [
    "#rename columns with spaces in names for easier use\n",
    "df_airbnb_market.rename(columns={'nightly rate': 'nightly_rate', 'lead time': 'lead_time', 'length stay': 'length_stay'}, inplace=True)"
   ]
  },
  {
   "cell_type": "code",
   "execution_count": 17,
   "metadata": {},
   "outputs": [
    {
     "data": {
      "text/html": [
       "<div>\n",
       "<style scoped>\n",
       "    .dataframe tbody tr th:only-of-type {\n",
       "        vertical-align: middle;\n",
       "    }\n",
       "\n",
       "    .dataframe tbody tr th {\n",
       "        vertical-align: top;\n",
       "    }\n",
       "\n",
       "    .dataframe thead th {\n",
       "        text-align: right;\n",
       "    }\n",
       "</style>\n",
       "<table border=\"1\" class=\"dataframe\">\n",
       "  <thead>\n",
       "    <tr style=\"text-align: right;\">\n",
       "      <th></th>\n",
       "      <th>unified_id</th>\n",
       "      <th>month</th>\n",
       "      <th>zipcode</th>\n",
       "      <th>city</th>\n",
       "      <th>host_type</th>\n",
       "      <th>bedrooms</th>\n",
       "      <th>bathrooms</th>\n",
       "      <th>guests</th>\n",
       "      <th>revenue</th>\n",
       "      <th>openness</th>\n",
       "      <th>occupancy</th>\n",
       "      <th>nightly_rate</th>\n",
       "      <th>lead_time</th>\n",
       "      <th>length_stay</th>\n",
       "    </tr>\n",
       "  </thead>\n",
       "  <tbody>\n",
       "    <tr>\n",
       "      <th>0</th>\n",
       "      <td>AIR10000347</td>\n",
       "      <td>2019-1</td>\n",
       "      <td>92315</td>\n",
       "      <td>Big Bear Lake</td>\n",
       "      <td>2-5 Units</td>\n",
       "      <td>3</td>\n",
       "      <td>2.0</td>\n",
       "      <td>10</td>\n",
       "      <td>13948.759735</td>\n",
       "      <td>31</td>\n",
       "      <td>1.000000</td>\n",
       "      <td>449.959991</td>\n",
       "      <td>8.0</td>\n",
       "      <td>65.0</td>\n",
       "    </tr>\n",
       "    <tr>\n",
       "      <th>1</th>\n",
       "      <td>AIR10000347</td>\n",
       "      <td>2019-10</td>\n",
       "      <td>92315</td>\n",
       "      <td>Big Bear Lake</td>\n",
       "      <td>2-5 Units</td>\n",
       "      <td>3</td>\n",
       "      <td>2.0</td>\n",
       "      <td>10</td>\n",
       "      <td>449.959991</td>\n",
       "      <td>31</td>\n",
       "      <td>0.032258</td>\n",
       "      <td>449.959991</td>\n",
       "      <td>8.0</td>\n",
       "      <td>1.0</td>\n",
       "    </tr>\n",
       "    <tr>\n",
       "      <th>2</th>\n",
       "      <td>AIR10000347</td>\n",
       "      <td>2019-11</td>\n",
       "      <td>92315</td>\n",
       "      <td>Big Bear Lake</td>\n",
       "      <td>2-5 Units</td>\n",
       "      <td>3</td>\n",
       "      <td>2.0</td>\n",
       "      <td>10</td>\n",
       "      <td>0.000000</td>\n",
       "      <td>30</td>\n",
       "      <td>0.000000</td>\n",
       "      <td>NaN</td>\n",
       "      <td>NaN</td>\n",
       "      <td>NaN</td>\n",
       "    </tr>\n",
       "    <tr>\n",
       "      <th>3</th>\n",
       "      <td>AIR10000347</td>\n",
       "      <td>2019-12</td>\n",
       "      <td>92315</td>\n",
       "      <td>Big Bear Lake</td>\n",
       "      <td>2-5 Units</td>\n",
       "      <td>3</td>\n",
       "      <td>2.0</td>\n",
       "      <td>10</td>\n",
       "      <td>4949.679932</td>\n",
       "      <td>31</td>\n",
       "      <td>0.354839</td>\n",
       "      <td>449.970903</td>\n",
       "      <td>41.0</td>\n",
       "      <td>2.4</td>\n",
       "    </tr>\n",
       "    <tr>\n",
       "      <th>4</th>\n",
       "      <td>AIR10000347</td>\n",
       "      <td>2019-2</td>\n",
       "      <td>92315</td>\n",
       "      <td>Big Bear Lake</td>\n",
       "      <td>2-5 Units</td>\n",
       "      <td>3</td>\n",
       "      <td>2.0</td>\n",
       "      <td>10</td>\n",
       "      <td>0.000000</td>\n",
       "      <td>28</td>\n",
       "      <td>0.000000</td>\n",
       "      <td>NaN</td>\n",
       "      <td>NaN</td>\n",
       "      <td>NaN</td>\n",
       "    </tr>\n",
       "    <tr>\n",
       "      <th>...</th>\n",
       "      <td>...</td>\n",
       "      <td>...</td>\n",
       "      <td>...</td>\n",
       "      <td>...</td>\n",
       "      <td>...</td>\n",
       "      <td>...</td>\n",
       "      <td>...</td>\n",
       "      <td>...</td>\n",
       "      <td>...</td>\n",
       "      <td>...</td>\n",
       "      <td>...</td>\n",
       "      <td>...</td>\n",
       "      <td>...</td>\n",
       "      <td>...</td>\n",
       "    </tr>\n",
       "    <tr>\n",
       "      <th>29923</th>\n",
       "      <td>AIR9996370</td>\n",
       "      <td>2019-5</td>\n",
       "      <td>92314</td>\n",
       "      <td>Big Bear City</td>\n",
       "      <td>Single Owners</td>\n",
       "      <td>3</td>\n",
       "      <td>1.0</td>\n",
       "      <td>8</td>\n",
       "      <td>142.979996</td>\n",
       "      <td>31</td>\n",
       "      <td>0.032258</td>\n",
       "      <td>142.979996</td>\n",
       "      <td>2.0</td>\n",
       "      <td>1.0</td>\n",
       "    </tr>\n",
       "    <tr>\n",
       "      <th>29924</th>\n",
       "      <td>AIR9996370</td>\n",
       "      <td>2019-6</td>\n",
       "      <td>92314</td>\n",
       "      <td>Big Bear City</td>\n",
       "      <td>Single Owners</td>\n",
       "      <td>3</td>\n",
       "      <td>1.0</td>\n",
       "      <td>8</td>\n",
       "      <td>399.959991</td>\n",
       "      <td>30</td>\n",
       "      <td>0.066667</td>\n",
       "      <td>199.979996</td>\n",
       "      <td>2.0</td>\n",
       "      <td>1.0</td>\n",
       "    </tr>\n",
       "    <tr>\n",
       "      <th>29925</th>\n",
       "      <td>AIR9996370</td>\n",
       "      <td>2019-7</td>\n",
       "      <td>92314</td>\n",
       "      <td>Big Bear City</td>\n",
       "      <td>Single Owners</td>\n",
       "      <td>3</td>\n",
       "      <td>1.0</td>\n",
       "      <td>8</td>\n",
       "      <td>658.939987</td>\n",
       "      <td>31</td>\n",
       "      <td>0.096774</td>\n",
       "      <td>219.646662</td>\n",
       "      <td>19.0</td>\n",
       "      <td>3.0</td>\n",
       "    </tr>\n",
       "    <tr>\n",
       "      <th>29926</th>\n",
       "      <td>AIR9996370</td>\n",
       "      <td>2019-8</td>\n",
       "      <td>92314</td>\n",
       "      <td>Big Bear City</td>\n",
       "      <td>Single Owners</td>\n",
       "      <td>3</td>\n",
       "      <td>1.0</td>\n",
       "      <td>8</td>\n",
       "      <td>339.959991</td>\n",
       "      <td>31</td>\n",
       "      <td>0.064516</td>\n",
       "      <td>169.979996</td>\n",
       "      <td>8.5</td>\n",
       "      <td>1.5</td>\n",
       "    </tr>\n",
       "    <tr>\n",
       "      <th>29927</th>\n",
       "      <td>AIR9996370</td>\n",
       "      <td>2019-9</td>\n",
       "      <td>92314</td>\n",
       "      <td>Big Bear City</td>\n",
       "      <td>Single Owners</td>\n",
       "      <td>3</td>\n",
       "      <td>1.0</td>\n",
       "      <td>8</td>\n",
       "      <td>326.959991</td>\n",
       "      <td>30</td>\n",
       "      <td>0.066667</td>\n",
       "      <td>163.479996</td>\n",
       "      <td>9.0</td>\n",
       "      <td>1.0</td>\n",
       "    </tr>\n",
       "  </tbody>\n",
       "</table>\n",
       "<p>29928 rows × 14 columns</p>\n",
       "</div>"
      ],
      "text/plain": [
       "        unified_id    month  zipcode           city      host_type  bedrooms  \\\n",
       "0      AIR10000347   2019-1    92315  Big Bear Lake      2-5 Units         3   \n",
       "1      AIR10000347  2019-10    92315  Big Bear Lake      2-5 Units         3   \n",
       "2      AIR10000347  2019-11    92315  Big Bear Lake      2-5 Units         3   \n",
       "3      AIR10000347  2019-12    92315  Big Bear Lake      2-5 Units         3   \n",
       "4      AIR10000347   2019-2    92315  Big Bear Lake      2-5 Units         3   \n",
       "...            ...      ...      ...            ...            ...       ...   \n",
       "29923   AIR9996370   2019-5    92314  Big Bear City  Single Owners         3   \n",
       "29924   AIR9996370   2019-6    92314  Big Bear City  Single Owners         3   \n",
       "29925   AIR9996370   2019-7    92314  Big Bear City  Single Owners         3   \n",
       "29926   AIR9996370   2019-8    92314  Big Bear City  Single Owners         3   \n",
       "29927   AIR9996370   2019-9    92314  Big Bear City  Single Owners         3   \n",
       "\n",
       "       bathrooms guests       revenue  openness  occupancy  nightly_rate  \\\n",
       "0            2.0     10  13948.759735        31   1.000000    449.959991   \n",
       "1            2.0     10    449.959991        31   0.032258    449.959991   \n",
       "2            2.0     10      0.000000        30   0.000000           NaN   \n",
       "3            2.0     10   4949.679932        31   0.354839    449.970903   \n",
       "4            2.0     10      0.000000        28   0.000000           NaN   \n",
       "...          ...    ...           ...       ...        ...           ...   \n",
       "29923        1.0      8    142.979996        31   0.032258    142.979996   \n",
       "29924        1.0      8    399.959991        30   0.066667    199.979996   \n",
       "29925        1.0      8    658.939987        31   0.096774    219.646662   \n",
       "29926        1.0      8    339.959991        31   0.064516    169.979996   \n",
       "29927        1.0      8    326.959991        30   0.066667    163.479996   \n",
       "\n",
       "       lead_time  length_stay  \n",
       "0            8.0         65.0  \n",
       "1            8.0          1.0  \n",
       "2            NaN          NaN  \n",
       "3           41.0          2.4  \n",
       "4            NaN          NaN  \n",
       "...          ...          ...  \n",
       "29923        2.0          1.0  \n",
       "29924        2.0          1.0  \n",
       "29925       19.0          3.0  \n",
       "29926        8.5          1.5  \n",
       "29927        9.0          1.0  \n",
       "\n",
       "[29928 rows x 14 columns]"
      ]
     },
     "execution_count": 17,
     "metadata": {},
     "output_type": "execute_result"
    }
   ],
   "source": [
    "df_airbnb_market"
   ]
  },
  {
   "cell_type": "code",
   "execution_count": 18,
   "metadata": {},
   "outputs": [
    {
     "name": "stdout",
     "output_type": "stream",
     "text": [
      "Number of unique months in Market Analysis: 12\n"
     ]
    },
    {
     "data": {
      "text/plain": [
       "array(['2019-1', '2019-10', '2019-11', '2019-12', '2019-2', '2019-3',\n",
       "       '2019-4', '2019-5', '2019-6', '2019-7', '2019-8', '2019-9'],\n",
       "      dtype=object)"
      ]
     },
     "execution_count": 18,
     "metadata": {},
     "output_type": "execute_result"
    }
   ],
   "source": [
    "print(f'Number of unique months in Market Analysis: {df_airbnb_market.month.nunique()}')\n",
    "df_airbnb_market.month.unique()"
   ]
  },
  {
   "cell_type": "markdown",
   "metadata": {},
   "source": [
    "In Market Analysis the data is aggregated at month level for the 12 months of 2019."
   ]
  },
  {
   "cell_type": "code",
   "execution_count": 19,
   "metadata": {},
   "outputs": [
    {
     "data": {
      "text/plain": [
       "array(['Big Bear Lake', 'Joshua Tree', 'Big Bear City', 'Yucca Valley'],\n",
       "      dtype=object)"
      ]
     },
     "execution_count": 19,
     "metadata": {},
     "output_type": "execute_result"
    }
   ],
   "source": [
    "df_airbnb_market.city.unique()"
   ]
  },
  {
   "cell_type": "code",
   "execution_count": 20,
   "metadata": {},
   "outputs": [
    {
     "data": {
      "text/plain": [
       "array([92315, 92252, 92314, 92284], dtype=int64)"
      ]
     },
     "execution_count": 20,
     "metadata": {},
     "output_type": "execute_result"
    }
   ],
   "source": [
    "df_airbnb_market.zipcode.unique()"
   ]
  },
  {
   "cell_type": "markdown",
   "metadata": {},
   "source": [
    "The data is already filtered to include only zipcodes for Big Bear and Joshua Tree and their surroundings (zip codes: 92314, 92315, 92284 and 92252), as indicated in the statement."
   ]
  },
  {
   "cell_type": "code",
   "execution_count": 21,
   "metadata": {},
   "outputs": [
    {
     "data": {
      "text/plain": [
       "Index(['unified_id', 'month', 'zipcode', 'city', 'host_type', 'bedrooms',\n",
       "       'bathrooms', 'guests', 'revenue', 'openness', 'occupancy',\n",
       "       'nightly_rate', 'lead_time', 'length_stay'],\n",
       "      dtype='object')"
      ]
     },
     "execution_count": 21,
     "metadata": {},
     "output_type": "execute_result"
    }
   ],
   "source": [
    "df_airbnb_market.columns"
   ]
  },
  {
   "cell_type": "markdown",
   "metadata": {},
   "source": [
    "**Let's have a closer look at values and their distributions in Market Analysis dataframe.**"
   ]
  },
  {
   "cell_type": "code",
   "execution_count": 22,
   "metadata": {},
   "outputs": [
    {
     "data": {
      "image/png": "[encoded data removed]",
      "text/plain": [
       "<Figure size 432x288 with 1 Axes>"
      ]
     },
     "metadata": {
      "needs_background": "light"
     },
     "output_type": "display_data"
    }
   ],
   "source": [
    "df_airbnb_market.city.value_counts().plot.bar()\n",
    "plt.xticks(rotation=0)\n",
    "plt.title('Cities of the listings')\n",
    "plt.show()"
   ]
  },
  {
   "cell_type": "code",
   "execution_count": 23,
   "metadata": {},
   "outputs": [
    {
     "data": {
      "image/png": "[encoded data removed]",
      "text/plain": [
       "<Figure size 432x288 with 1 Axes>"
      ]
     },
     "metadata": {
      "needs_background": "light"
     },
     "output_type": "display_data"
    }
   ],
   "source": [
    "df_airbnb_market.host_type.value_counts().plot.bar()\n",
    "plt.xticks(rotation=0)\n",
    "plt.title('Types of host')\n",
    "plt.show()"
   ]
  },
  {
   "cell_type": "markdown",
   "metadata": {},
   "source": [
    "*What does 2-5 units mean? Private owners of 2-5 units?*"
   ]
  },
  {
   "cell_type": "code",
   "execution_count": 24,
   "metadata": {},
   "outputs": [
    {
     "data": {
      "image/png": "[encoded data removed]",
      "text/plain": [
       "<Figure size 432x288 with 1 Axes>"
      ]
     },
     "metadata": {
      "needs_background": "light"
     },
     "output_type": "display_data"
    }
   ],
   "source": [
    "df_airbnb_market.bedrooms.plot.box()\n",
    "plt.xticks(rotation=0)\n",
    "plt.title('Number of Bedrooms')\n",
    "plt.show()"
   ]
  },
  {
   "cell_type": "code",
   "execution_count": 25,
   "metadata": {},
   "outputs": [
    {
     "data": {
      "image/png": "[encoded data removed]",
      "text/plain": [
       "<Figure size 432x288 with 1 Axes>"
      ]
     },
     "metadata": {
      "needs_background": "light"
     },
     "output_type": "display_data"
    }
   ],
   "source": [
    "df_airbnb_market.bathrooms.plot.box()\n",
    "plt.xticks(rotation=0)\n",
    "plt.title('Number of Bathrooms')\n",
    "plt.show()"
   ]
  },
  {
   "cell_type": "code",
   "execution_count": 26,
   "metadata": {},
   "outputs": [
    {
     "data": {
      "text/plain": [
       "array(['10', '8', '7', '12', '9', '15+', '5', '6', '14', '11', '4', '13',\n",
       "       '3'], dtype=object)"
      ]
     },
     "execution_count": 26,
     "metadata": {},
     "output_type": "execute_result"
    }
   ],
   "source": [
    "df_airbnb_market.guests.unique()"
   ]
  },
  {
   "cell_type": "markdown",
   "metadata": {},
   "source": [
    "Given that guests is a string column with numerical variables, it is useful to create a corresponsing numerical column keeping in mind that 15 means 15+. Because of his nuance both columns are kept."
   ]
  },
  {
   "cell_type": "code",
   "execution_count": 27,
   "metadata": {},
   "outputs": [],
   "source": [
    "df_airbnb_market['guests_number'] = df_airbnb_market['guests'].str.strip().str.strip('+').astype('int32')"
   ]
  },
  {
   "cell_type": "code",
   "execution_count": 28,
   "metadata": {},
   "outputs": [
    {
     "data": {
      "image/png": "[encoded data removed]",
      "text/plain": [
       "<Figure size 432x288 with 1 Axes>"
      ]
     },
     "metadata": {
      "needs_background": "light"
     },
     "output_type": "display_data"
    }
   ],
   "source": [
    "df_airbnb_market.guests_number.plot.hist()\n",
    "plt.xticks(rotation=0)\n",
    "plt.title('Number of Guests')\n",
    "plt.show()"
   ]
  },
  {
   "cell_type": "code",
   "execution_count": 29,
   "metadata": {},
   "outputs": [
    {
     "data": {
      "image/png": "[encoded data removed]",
      "text/plain": [
       "<Figure size 432x288 with 1 Axes>"
      ]
     },
     "metadata": {
      "needs_background": "light"
     },
     "output_type": "display_data"
    }
   ],
   "source": [
    "df_airbnb_market.revenue.plot.box()\n",
    "plt.xticks(rotation=0)\n",
    "plt.title('Revenue per month')\n",
    "plt.show()"
   ]
  },
  {
   "cell_type": "code",
   "execution_count": 30,
   "metadata": {},
   "outputs": [
    {
     "data": {
      "text/plain": [
       "count     29912.000000\n",
       "mean       3801.236123\n",
       "std        5201.935753\n",
       "min      -10509.990051\n",
       "25%         379.709991\n",
       "50%        2447.179989\n",
       "75%        5310.105034\n",
       "max      155187.216797\n",
       "Name: revenue, dtype: float64"
      ]
     },
     "execution_count": 30,
     "metadata": {},
     "output_type": "execute_result"
    }
   ],
   "source": [
    "df_airbnb_market.revenue.describe()"
   ]
  },
  {
   "cell_type": "markdown",
   "metadata": {},
   "source": [
    "There are some clear outliers in this column, as well as negative values. **Should clarify the quality of data and possibility of extremely high/negative values**"
   ]
  },
  {
   "cell_type": "code",
   "execution_count": 31,
   "metadata": {},
   "outputs": [
    {
     "data": {
      "image/png": "[encoded data removed]",
      "text/plain": [
       "<Figure size 432x288 with 1 Axes>"
      ]
     },
     "metadata": {
      "needs_background": "light"
     },
     "output_type": "display_data"
    }
   ],
   "source": [
    "df_airbnb_market.openness.plot.hist()\n",
    "plt.title('Days per month available')\n",
    "plt.show()"
   ]
  },
  {
   "cell_type": "code",
   "execution_count": 32,
   "metadata": {},
   "outputs": [
    {
     "data": {
      "image/png": "[encoded data removed]",
      "text/plain": [
       "<Figure size 432x288 with 1 Axes>"
      ]
     },
     "metadata": {
      "needs_background": "light"
     },
     "output_type": "display_data"
    }
   ],
   "source": [
    "for_viz_occ = df_airbnb_market['occupancy'] *100\n",
    "for_viz_occ.plot.box()\n",
    "plt.title('Ratio between the days booked and available')\n",
    "plt.gca().yaxis.set_major_formatter(StrMethodFormatter('{x:,.2f}%'))\n",
    "plt.show()"
   ]
  },
  {
   "cell_type": "markdown",
   "metadata": {},
   "source": [
    "*Is it ratio or percentage?*"
   ]
  },
  {
   "cell_type": "code",
   "execution_count": 33,
   "metadata": {},
   "outputs": [
    {
     "data": {
      "image/png": "[encoded data removed]",
      "text/plain": [
       "<Figure size 432x288 with 1 Axes>"
      ]
     },
     "metadata": {
      "needs_background": "light"
     },
     "output_type": "display_data"
    }
   ],
   "source": [
    "df_airbnb_market.nightly_rate.plot.box()\n",
    "plt.title('Average price per night')\n",
    "plt.gca().yaxis.set_major_formatter(StrMethodFormatter('${x:,.0f}'))\n",
    "plt.show()"
   ]
  },
  {
   "cell_type": "code",
   "execution_count": 34,
   "metadata": {},
   "outputs": [
    {
     "data": {
      "text/plain": [
       "count    23486.000000\n",
       "mean       327.047380\n",
       "std        262.117911\n",
       "min       -350.333002\n",
       "25%        173.970001\n",
       "50%        249.979996\n",
       "75%        399.940002\n",
       "max       6965.666667\n",
       "Name: nightly_rate, dtype: float64"
      ]
     },
     "execution_count": 34,
     "metadata": {},
     "output_type": "execute_result"
    }
   ],
   "source": [
    "df_airbnb_market.nightly_rate.describe()"
   ]
  },
  {
   "cell_type": "markdown",
   "metadata": {},
   "source": [
    "There are negative values that given the nature of the column shouldn't be there, as well as some clear outliers.\n",
    "\n",
    "*Clarify what could these negative values and outliers mean? There are also 6442 null values. How could we explain them?*"
   ]
  },
  {
   "cell_type": "code",
   "execution_count": 35,
   "metadata": {},
   "outputs": [
    {
     "data": {
      "image/png": "[encoded data removed]",
      "text/plain": [
       "<Figure size 432x288 with 1 Axes>"
      ]
     },
     "metadata": {
      "needs_background": "light"
     },
     "output_type": "display_data"
    }
   ],
   "source": [
    "df_airbnb_market.lead_time.plot.box()\n",
    "plt.title('Number of days between booking and stay')\n",
    "plt.show()"
   ]
  },
  {
   "cell_type": "code",
   "execution_count": 36,
   "metadata": {},
   "outputs": [
    {
     "data": {
      "text/plain": [
       "count    21897.000000\n",
       "mean        30.968204\n",
       "std         40.174985\n",
       "min          1.000000\n",
       "25%          6.875000\n",
       "50%         18.545455\n",
       "75%         39.400000\n",
       "max        359.000000\n",
       "Name: lead_time, dtype: float64"
      ]
     },
     "execution_count": 36,
     "metadata": {},
     "output_type": "execute_result"
    }
   ],
   "source": [
    "df_airbnb_market.lead_time.describe()"
   ]
  },
  {
   "cell_type": "markdown",
   "metadata": {},
   "source": [
    "There are some clear outliers in this column. Are they informative or just distort the data?"
   ]
  },
  {
   "cell_type": "code",
   "execution_count": 37,
   "metadata": {},
   "outputs": [
    {
     "name": "stdout",
     "output_type": "stream",
     "text": [
      "The lower limit would be: -41.912499999999994\n",
      "The upper limit would be: 88.1875\n"
     ]
    }
   ],
   "source": [
    "#calculate interquantile range for managing the outliers\n",
    "qu_75 = df_airbnb_market.lead_time.quantile(0.75)\n",
    "qu_25 = df_airbnb_market.lead_time.quantile(0.25)\n",
    "iqr_one_n_half = 1.5*(qu_75 - qu_25)\n",
    "#upper limit\n",
    "upper_limit = iqr_one_n_half + qu_75\n",
    "#lower limit\n",
    "lower_limit = qu_25 - iqr_one_n_half\n",
    "print(f'The lower limit would be: {lower_limit}\\nThe upper limit would be: {upper_limit}')"
   ]
  },
  {
   "cell_type": "markdown",
   "metadata": {},
   "source": [
    "There are no lower outliers, and triming all outliers over 88 would distort analysis. Let's have a look at other percentiles."
   ]
  },
  {
   "cell_type": "code",
   "execution_count": 38,
   "metadata": {},
   "outputs": [
    {
     "data": {
      "text/plain": [
       "0.10      2.000000\n",
       "0.25      6.875000\n",
       "0.50     18.545455\n",
       "0.75     39.400000\n",
       "0.80     46.250000\n",
       "0.90     71.220000\n",
       "0.95    101.000000\n",
       "0.98    153.000000\n",
       "Name: lead_time, dtype: float64"
      ]
     },
     "execution_count": 38,
     "metadata": {},
     "output_type": "execute_result"
    }
   ],
   "source": [
    "df_airbnb_market.lead_time.quantile([0.1, 0.25, 0.5, 0.75, 0.80, 0.90, 0.95, 0.98])"
   ]
  },
  {
   "cell_type": "markdown",
   "metadata": {},
   "source": [
    "*Would it be a good idea to trim just the two last percentiles? Or should I leave all the outliers? There are also 8031 nulls.*"
   ]
  },
  {
   "cell_type": "code",
   "execution_count": 39,
   "metadata": {},
   "outputs": [
    {
     "data": {
      "image/png": "[encoded data removed]",
      "text/plain": [
       "<Figure size 432x288 with 1 Axes>"
      ]
     },
     "metadata": {
      "needs_background": "light"
     },
     "output_type": "display_data"
    }
   ],
   "source": [
    "df_airbnb_market.loc[df_airbnb_market['lead_time'] <=153, 'lead_time'].plot.box()\n",
    "plt.title('Number of days between booking and stay')\n",
    "plt.show()"
   ]
  },
  {
   "cell_type": "code",
   "execution_count": 40,
   "metadata": {},
   "outputs": [
    {
     "data": {
      "image/png": "[encoded data removed]",
      "text/plain": [
       "<Figure size 432x288 with 1 Axes>"
      ]
     },
     "metadata": {
      "needs_background": "light"
     },
     "output_type": "display_data"
    }
   ],
   "source": [
    "df_airbnb_market.length_stay.plot.box()\n",
    "plt.title('Average length of stay per month')\n",
    "plt.show()"
   ]
  },
  {
   "cell_type": "code",
   "execution_count": 41,
   "metadata": {},
   "outputs": [
    {
     "data": {
      "text/plain": [
       "count    21897.000000\n",
       "mean         4.749503\n",
       "std         18.992477\n",
       "min          1.000000\n",
       "25%          1.555556\n",
       "50%          2.000000\n",
       "75%          2.714286\n",
       "max        346.000000\n",
       "Name: length_stay, dtype: float64"
      ]
     },
     "execution_count": 41,
     "metadata": {},
     "output_type": "execute_result"
    }
   ],
   "source": [
    "df_airbnb_market.length_stay.describe()"
   ]
  },
  {
   "cell_type": "markdown",
   "metadata": {},
   "source": [
    "It doesn't make sense to have values higher than 31 in a column that contains average number of days of the reservations made that month for that property. *Should I just reemplace these outliers by 31, 30 or 28 (2019 is not a leap year) depending on the month?*"
   ]
  },
  {
   "cell_type": "code",
   "execution_count": 42,
   "metadata": {},
   "outputs": [],
   "source": [
    "#impute outliers for January, March, May, July, August, October & December\n",
    "df_airbnb_market.loc[(df_airbnb_market['length_stay'] > 31)\\\n",
    "                    & (df_airbnb_market['month'].isin(['2019-1', '2019-3', '2019-5', '2019-7', '2019-8', '2019-10', '2019-12'])),\\\n",
    "                    'length_stay'] = 31"
   ]
  },
  {
   "cell_type": "code",
   "execution_count": 43,
   "metadata": {},
   "outputs": [],
   "source": [
    "#impute outliers for February\n",
    "df_airbnb_market.loc[(df_airbnb_market['length_stay'] > 28) & (df_airbnb_market['month'] == '2019-2'), 'length_stay'] = 28"
   ]
  },
  {
   "cell_type": "code",
   "execution_count": 44,
   "metadata": {},
   "outputs": [],
   "source": [
    "#impute outliers for April, June, September & November\n",
    "df_airbnb_market.loc[(df_airbnb_market['length_stay'] > 30)\\\n",
    "                    & (df_airbnb_market['month'].isin(['2019-4', '2019-6', '2019-9', '2019-11'])), 'length_stay'] = 30"
   ]
  },
  {
   "cell_type": "markdown",
   "metadata": {},
   "source": [
    "### Amenities dataframe"
   ]
  },
  {
   "cell_type": "code",
   "execution_count": 45,
   "metadata": {},
   "outputs": [
    {
     "data": {
      "text/html": [
       "<div>\n",
       "<style scoped>\n",
       "    .dataframe tbody tr th:only-of-type {\n",
       "        vertical-align: middle;\n",
       "    }\n",
       "\n",
       "    .dataframe tbody tr th {\n",
       "        vertical-align: top;\n",
       "    }\n",
       "\n",
       "    .dataframe thead th {\n",
       "        text-align: right;\n",
       "    }\n",
       "</style>\n",
       "<table border=\"1\" class=\"dataframe\">\n",
       "  <thead>\n",
       "    <tr style=\"text-align: right;\">\n",
       "      <th></th>\n",
       "      <th>unified_id</th>\n",
       "      <th>month</th>\n",
       "      <th>hot_tub</th>\n",
       "      <th>pool</th>\n",
       "    </tr>\n",
       "  </thead>\n",
       "  <tbody>\n",
       "    <tr>\n",
       "      <th>0</th>\n",
       "      <td>AIR10052559</td>\n",
       "      <td>2022-12</td>\n",
       "      <td>1</td>\n",
       "      <td>0</td>\n",
       "    </tr>\n",
       "    <tr>\n",
       "      <th>1</th>\n",
       "      <td>AIR10178668</td>\n",
       "      <td>2022-12</td>\n",
       "      <td>0</td>\n",
       "      <td>0</td>\n",
       "    </tr>\n",
       "  </tbody>\n",
       "</table>\n",
       "</div>"
      ],
      "text/plain": [
       "    unified_id    month  hot_tub  pool\n",
       "0  AIR10052559  2022-12        1     0\n",
       "1  AIR10178668  2022-12        0     0"
      ]
     },
     "execution_count": 45,
     "metadata": {},
     "output_type": "execute_result"
    }
   ],
   "source": [
    "df_airbnb_amenities.head(2)"
   ]
  },
  {
   "cell_type": "code",
   "execution_count": 46,
   "metadata": {},
   "outputs": [
    {
     "name": "stdout",
     "output_type": "stream",
     "text": [
      "<class 'pandas.core.frame.DataFrame'>\n",
      "RangeIndex: 49311 entries, 0 to 49310\n",
      "Data columns (total 4 columns):\n",
      " #   Column      Non-Null Count  Dtype \n",
      "---  ------      --------------  ----- \n",
      " 0   unified_id  49311 non-null  object\n",
      " 1   month       49311 non-null  object\n",
      " 2   hot_tub     49311 non-null  int64 \n",
      " 3   pool        49311 non-null  int64 \n",
      "dtypes: int64(2), object(2)\n",
      "memory usage: 1.1+ MB\n"
     ]
    }
   ],
   "source": [
    "df_airbnb_amenities.info()"
   ]
  },
  {
   "cell_type": "code",
   "execution_count": 47,
   "metadata": {},
   "outputs": [
    {
     "data": {
      "text/plain": [
       "unified_id    0\n",
       "month         0\n",
       "hot_tub       0\n",
       "pool          0\n",
       "dtype: int64"
      ]
     },
     "execution_count": 47,
     "metadata": {},
     "output_type": "execute_result"
    }
   ],
   "source": [
    "df_airbnb_amenities.isna().sum()"
   ]
  },
  {
   "cell_type": "code",
   "execution_count": 48,
   "metadata": {},
   "outputs": [
    {
     "data": {
      "text/plain": [
       "0"
      ]
     },
     "execution_count": 48,
     "metadata": {},
     "output_type": "execute_result"
    }
   ],
   "source": [
    "df_airbnb_amenities.duplicated().sum()"
   ]
  },
  {
   "cell_type": "code",
   "execution_count": 49,
   "metadata": {},
   "outputs": [
    {
     "data": {
      "text/plain": [
       "1    25746\n",
       "0    23565\n",
       "Name: hot_tub, dtype: int64"
      ]
     },
     "execution_count": 49,
     "metadata": {},
     "output_type": "execute_result"
    }
   ],
   "source": [
    "df_airbnb_amenities.hot_tub.value_counts()"
   ]
  },
  {
   "cell_type": "code",
   "execution_count": 50,
   "metadata": {},
   "outputs": [
    {
     "data": {
      "text/plain": [
       "0    45275\n",
       "1     4036\n",
       "Name: pool, dtype: int64"
      ]
     },
     "execution_count": 50,
     "metadata": {},
     "output_type": "execute_result"
    }
   ],
   "source": [
    "df_airbnb_amenities.pool.value_counts()"
   ]
  },
  {
   "cell_type": "markdown",
   "metadata": {},
   "source": [
    "There are no null values in the Amenities dataframe. *Hot_tub* and *pool* columns have boolean values 0-1."
   ]
  },
  {
   "cell_type": "code",
   "execution_count": 51,
   "metadata": {},
   "outputs": [
    {
     "name": "stdout",
     "output_type": "stream",
     "text": [
      "Number of unique months in Amenities: 36\n"
     ]
    },
    {
     "data": {
      "text/plain": [
       "array(['2022-12', '2022-11', '2022-10', '2022-09', '2022-08', '2022-07',\n",
       "       '2022-06', '2022-05', '2022-04', '2022-03', '2022-02', '2022-01',\n",
       "       '2021-12', '2021-11', '2021-10', '2021-09', '2021-08', '2021-07',\n",
       "       '2021-06', '2021-05', '2021-04', '2021-03', '2021-02', '2021-01',\n",
       "       '2020-12', '2020-11', '2020-10', '2020-09', '2020-08', '2020-07',\n",
       "       '2020-06', '2020-05', '2020-04', '2020-03', '2020-02', '2020-01'],\n",
       "      dtype=object)"
      ]
     },
     "execution_count": 51,
     "metadata": {},
     "output_type": "execute_result"
    }
   ],
   "source": [
    "print(f'Number of unique months in Amenities: {df_airbnb_amenities.month.nunique()}')\n",
    "df_airbnb_amenities.month.unique()"
   ]
  },
  {
   "cell_type": "markdown",
   "metadata": {},
   "source": [
    "In Amenities the data is also aggregated at month level, but the observations range between 2020-01 and 2022-12, covering 36 months in total."
   ]
  },
  {
   "cell_type": "markdown",
   "metadata": {},
   "source": [
    "### Geolocation dataframe"
   ]
  },
  {
   "cell_type": "code",
   "execution_count": 52,
   "metadata": {},
   "outputs": [
    {
     "data": {
      "text/html": [
       "<div>\n",
       "<style scoped>\n",
       "    .dataframe tbody tr th:only-of-type {\n",
       "        vertical-align: middle;\n",
       "    }\n",
       "\n",
       "    .dataframe tbody tr th {\n",
       "        vertical-align: top;\n",
       "    }\n",
       "\n",
       "    .dataframe thead th {\n",
       "        text-align: right;\n",
       "    }\n",
       "</style>\n",
       "<table border=\"1\" class=\"dataframe\">\n",
       "  <thead>\n",
       "    <tr style=\"text-align: right;\">\n",
       "      <th></th>\n",
       "      <th>unified_id</th>\n",
       "      <th>month</th>\n",
       "      <th>street_name</th>\n",
       "      <th>latitude</th>\n",
       "      <th>longitude</th>\n",
       "    </tr>\n",
       "  </thead>\n",
       "  <tbody>\n",
       "    <tr>\n",
       "      <th>0</th>\n",
       "      <td>AIR10052559</td>\n",
       "      <td>2022-12</td>\n",
       "      <td>Heavenly Valley Road</td>\n",
       "      <td>34.23948</td>\n",
       "      <td>-116.87991</td>\n",
       "    </tr>\n",
       "    <tr>\n",
       "      <th>1</th>\n",
       "      <td>AIR10178668</td>\n",
       "      <td>2022-12</td>\n",
       "      <td>Round Drive</td>\n",
       "      <td>34.25095</td>\n",
       "      <td>-116.94139</td>\n",
       "    </tr>\n",
       "    <tr>\n",
       "      <th>2</th>\n",
       "      <td>AIR10211700</td>\n",
       "      <td>2022-12</td>\n",
       "      <td>NaN</td>\n",
       "      <td>34.24516</td>\n",
       "      <td>-116.87618</td>\n",
       "    </tr>\n",
       "  </tbody>\n",
       "</table>\n",
       "</div>"
      ],
      "text/plain": [
       "    unified_id    month           street_name  latitude  longitude\n",
       "0  AIR10052559  2022-12  Heavenly Valley Road  34.23948 -116.87991\n",
       "1  AIR10178668  2022-12           Round Drive  34.25095 -116.94139\n",
       "2  AIR10211700  2022-12                   NaN  34.24516 -116.87618"
      ]
     },
     "execution_count": 52,
     "metadata": {},
     "output_type": "execute_result"
    }
   ],
   "source": [
    "df_airbnb_geo.head(3)"
   ]
  },
  {
   "cell_type": "code",
   "execution_count": 53,
   "metadata": {},
   "outputs": [
    {
     "name": "stdout",
     "output_type": "stream",
     "text": [
      "<class 'pandas.core.frame.DataFrame'>\n",
      "RangeIndex: 49311 entries, 0 to 49310\n",
      "Data columns (total 5 columns):\n",
      " #   Column       Non-Null Count  Dtype  \n",
      "---  ------       --------------  -----  \n",
      " 0   unified_id   49311 non-null  object \n",
      " 1   month        49311 non-null  object \n",
      " 2   street_name  11589 non-null  object \n",
      " 3   latitude     49311 non-null  float64\n",
      " 4   longitude    49311 non-null  float64\n",
      "dtypes: float64(2), object(3)\n",
      "memory usage: 1.3+ MB\n"
     ]
    }
   ],
   "source": [
    "df_airbnb_geo.info()"
   ]
  },
  {
   "cell_type": "code",
   "execution_count": 54,
   "metadata": {},
   "outputs": [
    {
     "data": {
      "text/plain": [
       "unified_id         0\n",
       "month              0\n",
       "street_name    37722\n",
       "latitude           0\n",
       "longitude          0\n",
       "dtype: int64"
      ]
     },
     "execution_count": 54,
     "metadata": {},
     "output_type": "execute_result"
    }
   ],
   "source": [
    "df_airbnb_geo.isna().sum()"
   ]
  },
  {
   "cell_type": "code",
   "execution_count": 55,
   "metadata": {},
   "outputs": [
    {
     "data": {
      "text/plain": [
       "0"
      ]
     },
     "execution_count": 55,
     "metadata": {},
     "output_type": "execute_result"
    }
   ],
   "source": [
    "df_airbnb_geo.duplicated().sum()"
   ]
  },
  {
   "cell_type": "code",
   "execution_count": 56,
   "metadata": {},
   "outputs": [
    {
     "data": {
      "text/plain": [
       "0.7649814443024883"
      ]
     },
     "execution_count": 56,
     "metadata": {},
     "output_type": "execute_result"
    }
   ],
   "source": [
    "37722/49311"
   ]
  },
  {
   "cell_type": "markdown",
   "metadata": {},
   "source": [
    "Roughly 76% of values in the *street_name* column are nulls. This column can be dropped."
   ]
  },
  {
   "cell_type": "code",
   "execution_count": 57,
   "metadata": {},
   "outputs": [],
   "source": [
    "df_airbnb_geo.drop('street_name', axis=1, inplace=True)"
   ]
  },
  {
   "cell_type": "code",
   "execution_count": 58,
   "metadata": {},
   "outputs": [
    {
     "data": {
      "text/html": [
       "<div>\n",
       "<style scoped>\n",
       "    .dataframe tbody tr th:only-of-type {\n",
       "        vertical-align: middle;\n",
       "    }\n",
       "\n",
       "    .dataframe tbody tr th {\n",
       "        vertical-align: top;\n",
       "    }\n",
       "\n",
       "    .dataframe thead th {\n",
       "        text-align: right;\n",
       "    }\n",
       "</style>\n",
       "<table border=\"1\" class=\"dataframe\">\n",
       "  <thead>\n",
       "    <tr style=\"text-align: right;\">\n",
       "      <th></th>\n",
       "      <th>latitude</th>\n",
       "      <th>longitude</th>\n",
       "    </tr>\n",
       "  </thead>\n",
       "  <tbody>\n",
       "    <tr>\n",
       "      <th>count</th>\n",
       "      <td>49311.000000</td>\n",
       "      <td>49311.000000</td>\n",
       "    </tr>\n",
       "    <tr>\n",
       "      <th>mean</th>\n",
       "      <td>34.224047</td>\n",
       "      <td>-116.781913</td>\n",
       "    </tr>\n",
       "    <tr>\n",
       "      <th>std</th>\n",
       "      <td>0.044215</td>\n",
       "      <td>0.212420</td>\n",
       "    </tr>\n",
       "    <tr>\n",
       "      <th>min</th>\n",
       "      <td>34.079448</td>\n",
       "      <td>-116.961096</td>\n",
       "    </tr>\n",
       "    <tr>\n",
       "      <th>25%</th>\n",
       "      <td>34.230960</td>\n",
       "      <td>-116.894150</td>\n",
       "    </tr>\n",
       "    <tr>\n",
       "      <th>50%</th>\n",
       "      <td>34.239720</td>\n",
       "      <td>-116.865280</td>\n",
       "    </tr>\n",
       "    <tr>\n",
       "      <th>75%</th>\n",
       "      <td>34.245920</td>\n",
       "      <td>-116.843510</td>\n",
       "    </tr>\n",
       "    <tr>\n",
       "      <th>max</th>\n",
       "      <td>34.304834</td>\n",
       "      <td>-116.002269</td>\n",
       "    </tr>\n",
       "  </tbody>\n",
       "</table>\n",
       "</div>"
      ],
      "text/plain": [
       "           latitude     longitude\n",
       "count  49311.000000  49311.000000\n",
       "mean      34.224047   -116.781913\n",
       "std        0.044215      0.212420\n",
       "min       34.079448   -116.961096\n",
       "25%       34.230960   -116.894150\n",
       "50%       34.239720   -116.865280\n",
       "75%       34.245920   -116.843510\n",
       "max       34.304834   -116.002269"
      ]
     },
     "execution_count": 58,
     "metadata": {},
     "output_type": "execute_result"
    }
   ],
   "source": [
    "df_airbnb_geo.describe()"
   ]
  },
  {
   "cell_type": "markdown",
   "metadata": {},
   "source": [
    "All latitudes and longitudes seem to belong roughly to the same area."
   ]
  },
  {
   "cell_type": "code",
   "execution_count": 59,
   "metadata": {},
   "outputs": [
    {
     "name": "stdout",
     "output_type": "stream",
     "text": [
      "Number of unique months in Geolocation: 36\n"
     ]
    },
    {
     "data": {
      "text/plain": [
       "array(['2022-12', '2022-11', '2022-10', '2022-09', '2022-08', '2022-07',\n",
       "       '2022-06', '2022-05', '2022-04', '2022-03', '2022-02', '2022-01',\n",
       "       '2021-12', '2021-11', '2021-10', '2021-09', '2021-08', '2021-07',\n",
       "       '2021-06', '2021-05', '2021-04', '2021-03', '2021-02', '2021-01',\n",
       "       '2020-12', '2020-11', '2020-10', '2020-09', '2020-08', '2020-07',\n",
       "       '2020-06', '2020-05', '2020-04', '2020-03', '2020-02', '2020-01'],\n",
       "      dtype=object)"
      ]
     },
     "execution_count": 59,
     "metadata": {},
     "output_type": "execute_result"
    }
   ],
   "source": [
    "print(f'Number of unique months in Geolocation: {df_airbnb_geo.month.nunique()}')\n",
    "df_airbnb_geo.month.unique()"
   ]
  },
  {
   "cell_type": "markdown",
   "metadata": {},
   "source": [
    "In Geolocation the data is also aggregated at month level, and as in Amenities, the observations range between 2020-01 and 2022-12, covering 36 months in total."
   ]
  },
  {
   "cell_type": "markdown",
   "metadata": {},
   "source": [
    "## Joining three Airbnb dataframes"
   ]
  },
  {
   "cell_type": "markdown",
   "metadata": {},
   "source": [
    "All three dataframes appear to have in common the *unified_id* column."
   ]
  },
  {
   "cell_type": "code",
   "execution_count": 60,
   "metadata": {},
   "outputs": [
    {
     "name": "stdout",
     "output_type": "stream",
     "text": [
      "Number of unique IDs in Market Analysis: 3136\n",
      "Number of unique IDs in Amenities: 2151\n",
      "Number of unique IDs in Geolocation: 2151\n"
     ]
    }
   ],
   "source": [
    "print(f'Number of unique IDs in Market Analysis: {df_airbnb_market.unified_id.nunique()}')\n",
    "print(f'Number of unique IDs in Amenities: {df_airbnb_amenities.unified_id.nunique()}')\n",
    "print(f'Number of unique IDs in Geolocation: {df_airbnb_geo.unified_id.nunique()}')"
   ]
  },
  {
   "cell_type": "markdown",
   "metadata": {},
   "source": [
    "Speaking about Amenities and Geolocation dataframes, are there data for all 36 months for every listing? Can we just take data for 2020-01 as the date closest to the Market Analysis dates?"
   ]
  },
  {
   "cell_type": "code",
   "execution_count": 61,
   "metadata": {},
   "outputs": [
    {
     "data": {
      "text/plain": [
       "unified_id\n",
       "AIR10000347    21\n",
       "AIR10052559    35\n",
       "AIR10178668    36\n",
       "AIR10204420     4\n",
       "AIR10211502    18\n",
       "               ..\n",
       "AIR9959855     33\n",
       "AIR9960008     36\n",
       "AIR9976790     33\n",
       "AIR9986505     22\n",
       "AIR9996370     26\n",
       "Name: month, Length: 2151, dtype: int64"
      ]
     },
     "execution_count": 61,
     "metadata": {},
     "output_type": "execute_result"
    }
   ],
   "source": [
    "df_airbnb_amenities.groupby('unified_id')['month'].count()"
   ]
  },
  {
   "cell_type": "code",
   "execution_count": 62,
   "metadata": {},
   "outputs": [
    {
     "data": {
      "text/plain": [
       "unified_id\n",
       "AIR10000347    21\n",
       "AIR10052559    35\n",
       "AIR10178668    36\n",
       "AIR10204420     4\n",
       "AIR10211502    18\n",
       "               ..\n",
       "AIR9959855     33\n",
       "AIR9960008     36\n",
       "AIR9976790     33\n",
       "AIR9986505     22\n",
       "AIR9996370     26\n",
       "Name: month, Length: 2151, dtype: int64"
      ]
     },
     "execution_count": 62,
     "metadata": {},
     "output_type": "execute_result"
    }
   ],
   "source": [
    "df_airbnb_geo.groupby('unified_id')['month'].count()"
   ]
  },
  {
   "cell_type": "markdown",
   "metadata": {},
   "source": [
    "Given that the data is not distributed evenly for all listings and months, let's take the earliest available observation for each listing. "
   ]
  },
  {
   "cell_type": "code",
   "execution_count": 63,
   "metadata": {},
   "outputs": [
    {
     "data": {
      "text/plain": [
       "(2151, 3)"
      ]
     },
     "execution_count": 63,
     "metadata": {},
     "output_type": "execute_result"
    }
   ],
   "source": [
    "#filter out month-level observations for Amenities leaving only the one closest to the Market Analysis range of dates\n",
    "new_am_df = df_airbnb_amenities.groupby('unified_id', as_index=False)['month'].min()\n",
    "df_airbnb_amenities = df_airbnb_amenities.merge(new_am_df, how='inner', on=['unified_id', 'month'])\n",
    "#leave only the listing's id and hot_tub and pool boolean values\n",
    "df_airbnb_amenities.drop('month', axis=1, inplace=True)\n",
    "df_airbnb_amenities.shape"
   ]
  },
  {
   "cell_type": "code",
   "execution_count": 64,
   "metadata": {},
   "outputs": [
    {
     "data": {
      "text/plain": [
       "(2151, 3)"
      ]
     },
     "execution_count": 64,
     "metadata": {},
     "output_type": "execute_result"
    }
   ],
   "source": [
    "#filter out month-level observations for Geolocation leaving only the latest one because geolocation doesn't change,\n",
    "#but tends to become more accurate overtime\n",
    "new_df_geo = df_airbnb_geo.groupby('unified_id', as_index=False)['month'].max()\n",
    "df_airbnb_geo = df_airbnb_geo.merge(new_df_geo, how='inner', on=['unified_id', 'month'])\n",
    "#leave only the listing's id and latitude&longitude values\n",
    "df_airbnb_geo.drop('month', axis=1, inplace=True)\n",
    "df_airbnb_geo.shape"
   ]
  },
  {
   "cell_type": "markdown",
   "metadata": {},
   "source": [
    "The resulting number of rows corresponds to the number of unique *unified_id* values in Amenities and Geolocation tables."
   ]
  },
  {
   "cell_type": "markdown",
   "metadata": {},
   "source": [
    "In order to add addiotional information to the Market Analysis dataframe I will use a left join with Amenities and Geolocation dataframes."
   ]
  },
  {
   "cell_type": "code",
   "execution_count": 65,
   "metadata": {},
   "outputs": [
    {
     "name": "stdout",
     "output_type": "stream",
     "text": [
      "unified_id, month, zipcode, city, host_type, bedrooms, bathrooms, guests, revenue, openness, occupancy, nightly_rate, lead_time, length_stay, guests_number, hot_tub, pool, latitude, longitude\n"
     ]
    },
    {
     "data": {
      "text/plain": [
       "(29928, 19)"
      ]
     },
     "execution_count": 65,
     "metadata": {},
     "output_type": "execute_result"
    }
   ],
   "source": [
    "df_airbnb_two = df_airbnb_market.merge(df_airbnb_amenities, how='left', on='unified_id')\n",
    "df_airbnb_complete = df_airbnb_two.merge(df_airbnb_geo, how='left', on='unified_id')\n",
    "print(*list(df_airbnb_complete.columns), sep=', ')\n",
    "df_airbnb_complete.shape"
   ]
  },
  {
   "cell_type": "markdown",
   "metadata": {},
   "source": [
    "The shape of the resulting dataset corresponds to the expected shape: 29928 rows of the Market Analysis dataframe and its 14 + 1 calculated column + 4 columns added from Amenities and Geolocation."
   ]
  },
  {
   "cell_type": "markdown",
   "metadata": {},
   "source": [
    "## Sales properties dataframes"
   ]
  },
  {
   "cell_type": "markdown",
   "metadata": {},
   "source": [
    "Let's have a look at the dataframes' dimensions, duplicates and null values."
   ]
  },
  {
   "cell_type": "code",
   "execution_count": 66,
   "metadata": {},
   "outputs": [
    {
     "name": "stdout",
     "output_type": "stream",
     "text": [
      "The \"Properties in 92252 zipcode (total)\" dataframe has:\n",
      "\t73 rows and 23 columns\n",
      "\t0 duplicated values\n",
      "\t3 column(s) with null values\n",
      "The \"Properties in 92284 zipcode (total)\" dataframe has:\n",
      "\t117 rows and 23 columns\n",
      "\t0 duplicated values\n",
      "\t3 column(s) with null values\n",
      "The \"Properties in 92314 zipcode (total)\" dataframe has:\n",
      "\t57 rows and 23 columns\n",
      "\t0 duplicated values\n",
      "\t4 column(s) with null values\n",
      "The \"Properties in 92315 zipcode (total)\" dataframe has:\n",
      "\t106 rows and 23 columns\n",
      "\t0 duplicated values\n",
      "\t4 column(s) with null values\n",
      "The \"Properties in 92284 zipcode (with pool)\" dataframe has:\n",
      "\t15 rows and 23 columns\n",
      "\t0 duplicated values\n",
      "\t1 column(s) with null values\n",
      "The \"Properties in 92252 zipcode (with pool)\" dataframe has:\n",
      "\t15 rows and 23 columns\n",
      "\t0 duplicated values\n",
      "\t3 column(s) with null values\n"
     ]
    }
   ],
   "source": [
    "dictionary_sales ={'\"Properties in 92252 zipcode (total)\"': df_sales_92252_total,\n",
    "                   '\"Properties in 92284 zipcode (total)\"': df_sales_92284_total,\n",
    "                   '\"Properties in 92314 zipcode (total)\"': df_sales_92314_total,\n",
    "                   '\"Properties in 92315 zipcode (total)\"': df_sales_92315_total,\n",
    "                   '\"Properties in 92284 zipcode (with pool)\"': df_sales_92284_pool,\n",
    "                   '\"Properties in 92252 zipcode (with pool)\"': df_sales_92252_pool\n",
    "                  }\n",
    "for key, value in dictionary_sales.items():\n",
    "    print(f'The {key} dataframe has:\\n\\t{value.shape[0]} rows and {value.shape[1]}\\\n",
    " columns\\n\\t{value.duplicated().sum()} duplicated values\\n\\t{value.isna().any().sum()} column(s) with null values')"
   ]
  },
  {
   "cell_type": "code",
   "execution_count": 67,
   "metadata": {},
   "outputs": [
    {
     "data": {
      "text/html": [
       "<div>\n",
       "<style scoped>\n",
       "    .dataframe tbody tr th:only-of-type {\n",
       "        vertical-align: middle;\n",
       "    }\n",
       "\n",
       "    .dataframe tbody tr th {\n",
       "        vertical-align: top;\n",
       "    }\n",
       "\n",
       "    .dataframe thead th {\n",
       "        text-align: right;\n",
       "    }\n",
       "</style>\n",
       "<table border=\"1\" class=\"dataframe\">\n",
       "  <thead>\n",
       "    <tr style=\"text-align: right;\">\n",
       "      <th></th>\n",
       "      <th>Url</th>\n",
       "      <th>Zestimate</th>\n",
       "      <th>Price</th>\n",
       "      <th>Rent Zestimate</th>\n",
       "      <th>Days On Zillow</th>\n",
       "      <th>Bathrooms</th>\n",
       "      <th>Bedrooms</th>\n",
       "      <th>Living Area</th>\n",
       "      <th>Lot Size</th>\n",
       "      <th>Home Type</th>\n",
       "      <th>...</th>\n",
       "      <th>State</th>\n",
       "      <th>Country</th>\n",
       "      <th>Broker Name</th>\n",
       "      <th>Has 3D Model</th>\n",
       "      <th>Has Image</th>\n",
       "      <th>Has Video</th>\n",
       "      <th>isZillowOwned</th>\n",
       "      <th>sgapt</th>\n",
       "      <th>statusText</th>\n",
       "      <th>statusType</th>\n",
       "    </tr>\n",
       "  </thead>\n",
       "  <tbody>\n",
       "    <tr>\n",
       "      <th>0</th>\n",
       "      <td>https://www.zillow.com/homedetails/8198-Uphill...</td>\n",
       "      <td>NaN</td>\n",
       "      <td>18000000</td>\n",
       "      <td>2435.0</td>\n",
       "      <td>Not specified</td>\n",
       "      <td>4</td>\n",
       "      <td>3</td>\n",
       "      <td>5470</td>\n",
       "      <td>NaN</td>\n",
       "      <td>SINGLE_FAMILY</td>\n",
       "      <td>...</td>\n",
       "      <td>CA</td>\n",
       "      <td>USA</td>\n",
       "      <td>AKGRE Inc</td>\n",
       "      <td>False</td>\n",
       "      <td>True</td>\n",
       "      <td>False</td>\n",
       "      <td>False</td>\n",
       "      <td>For Sale (Broker)</td>\n",
       "      <td>House for sale</td>\n",
       "      <td>FOR_SALE</td>\n",
       "    </tr>\n",
       "    <tr>\n",
       "      <th>1</th>\n",
       "      <td>https://www.zillow.com/homedetails/4757-Avenid...</td>\n",
       "      <td>223200.0</td>\n",
       "      <td>399990</td>\n",
       "      <td>1786.0</td>\n",
       "      <td>Not specified</td>\n",
       "      <td>2</td>\n",
       "      <td>3</td>\n",
       "      <td>1056</td>\n",
       "      <td>NaN</td>\n",
       "      <td>SINGLE_FAMILY</td>\n",
       "      <td>...</td>\n",
       "      <td>CA</td>\n",
       "      <td>USA</td>\n",
       "      <td>Champion Realty</td>\n",
       "      <td>False</td>\n",
       "      <td>True</td>\n",
       "      <td>False</td>\n",
       "      <td>False</td>\n",
       "      <td>For Sale (Broker)</td>\n",
       "      <td>House for sale</td>\n",
       "      <td>FOR_SALE</td>\n",
       "    </tr>\n",
       "    <tr>\n",
       "      <th>2</th>\n",
       "      <td>https://www.zillow.com/homedetails/61018-Presc...</td>\n",
       "      <td>568947.0</td>\n",
       "      <td>575000</td>\n",
       "      <td>2300.0</td>\n",
       "      <td>Not specified</td>\n",
       "      <td>2</td>\n",
       "      <td>3</td>\n",
       "      <td>1577</td>\n",
       "      <td>NaN</td>\n",
       "      <td>SINGLE_FAMILY</td>\n",
       "      <td>...</td>\n",
       "      <td>CA</td>\n",
       "      <td>USA</td>\n",
       "      <td>BHG Desert Lifestyle Properties</td>\n",
       "      <td>True</td>\n",
       "      <td>True</td>\n",
       "      <td>True</td>\n",
       "      <td>False</td>\n",
       "      <td>For Sale (Broker)</td>\n",
       "      <td>House for sale</td>\n",
       "      <td>FOR_SALE</td>\n",
       "    </tr>\n",
       "  </tbody>\n",
       "</table>\n",
       "<p>3 rows × 23 columns</p>\n",
       "</div>"
      ],
      "text/plain": [
       "                                                 Url  Zestimate     Price  \\\n",
       "0  https://www.zillow.com/homedetails/8198-Uphill...        NaN  18000000   \n",
       "1  https://www.zillow.com/homedetails/4757-Avenid...   223200.0    399990   \n",
       "2  https://www.zillow.com/homedetails/61018-Presc...   568947.0    575000   \n",
       "\n",
       "   Rent Zestimate Days On Zillow  Bathrooms  Bedrooms  Living Area  Lot Size  \\\n",
       "0          2435.0  Not specified          4         3         5470       NaN   \n",
       "1          1786.0  Not specified          2         3         1056       NaN   \n",
       "2          2300.0  Not specified          2         3         1577       NaN   \n",
       "\n",
       "       Home Type  ... State Country                      Broker Name  \\\n",
       "0  SINGLE_FAMILY  ...    CA     USA                        AKGRE Inc   \n",
       "1  SINGLE_FAMILY  ...    CA     USA                  Champion Realty   \n",
       "2  SINGLE_FAMILY  ...    CA     USA  BHG Desert Lifestyle Properties   \n",
       "\n",
       "  Has 3D Model Has Image Has Video  isZillowOwned              sgapt  \\\n",
       "0        False      True     False          False  For Sale (Broker)   \n",
       "1        False      True     False          False  For Sale (Broker)   \n",
       "2         True      True      True          False  For Sale (Broker)   \n",
       "\n",
       "       statusText  statusType  \n",
       "0  House for sale    FOR_SALE  \n",
       "1  House for sale    FOR_SALE  \n",
       "2  House for sale    FOR_SALE  \n",
       "\n",
       "[3 rows x 23 columns]"
      ]
     },
     "execution_count": 67,
     "metadata": {},
     "output_type": "execute_result"
    }
   ],
   "source": [
    "df_sales_92252_total.head(3)"
   ]
  },
  {
   "cell_type": "code",
   "execution_count": 68,
   "metadata": {},
   "outputs": [
    {
     "data": {
      "text/html": [
       "<div>\n",
       "<style scoped>\n",
       "    .dataframe tbody tr th:only-of-type {\n",
       "        vertical-align: middle;\n",
       "    }\n",
       "\n",
       "    .dataframe tbody tr th {\n",
       "        vertical-align: top;\n",
       "    }\n",
       "\n",
       "    .dataframe thead th {\n",
       "        text-align: right;\n",
       "    }\n",
       "</style>\n",
       "<table border=\"1\" class=\"dataframe\">\n",
       "  <thead>\n",
       "    <tr style=\"text-align: right;\">\n",
       "      <th></th>\n",
       "      <th>Url</th>\n",
       "      <th>Zestimate</th>\n",
       "      <th>Price</th>\n",
       "      <th>Rent Zestimate</th>\n",
       "      <th>Days On Zillow</th>\n",
       "      <th>Bathrooms</th>\n",
       "      <th>Bedrooms</th>\n",
       "      <th>Living Area</th>\n",
       "      <th>Lot Size</th>\n",
       "      <th>Home Type</th>\n",
       "      <th>...</th>\n",
       "      <th>State</th>\n",
       "      <th>Country</th>\n",
       "      <th>Broker Name</th>\n",
       "      <th>Has 3D Model</th>\n",
       "      <th>Has Image</th>\n",
       "      <th>Has Video</th>\n",
       "      <th>isZillowOwned</th>\n",
       "      <th>sgapt</th>\n",
       "      <th>statusText</th>\n",
       "      <th>statusType</th>\n",
       "    </tr>\n",
       "  </thead>\n",
       "  <tbody>\n",
       "    <tr>\n",
       "      <th>0</th>\n",
       "      <td>https://www.zillow.com/homedetails/61854-Crest...</td>\n",
       "      <td>392179.0</td>\n",
       "      <td>399000</td>\n",
       "      <td>1897.0</td>\n",
       "      <td>Not specified</td>\n",
       "      <td>2</td>\n",
       "      <td>3</td>\n",
       "      <td>1100</td>\n",
       "      <td>NaN</td>\n",
       "      <td>SINGLE_FAMILY</td>\n",
       "      <td>...</td>\n",
       "      <td>CA</td>\n",
       "      <td>USA</td>\n",
       "      <td>REAL BROKERAGE TECHNOLOGIES</td>\n",
       "      <td>False</td>\n",
       "      <td>True</td>\n",
       "      <td>False</td>\n",
       "      <td>False</td>\n",
       "      <td>For Sale (Broker)</td>\n",
       "      <td>House for sale</td>\n",
       "      <td>FOR_SALE</td>\n",
       "    </tr>\n",
       "    <tr>\n",
       "      <th>1</th>\n",
       "      <td>https://www.zillow.com/homedetails/4741-Avenid...</td>\n",
       "      <td>753106.0</td>\n",
       "      <td>769000</td>\n",
       "      <td>2901.0</td>\n",
       "      <td>Not specified</td>\n",
       "      <td>3</td>\n",
       "      <td>4</td>\n",
       "      <td>1871</td>\n",
       "      <td>NaN</td>\n",
       "      <td>SINGLE_FAMILY</td>\n",
       "      <td>...</td>\n",
       "      <td>CA</td>\n",
       "      <td>USA</td>\n",
       "      <td>Backbeat Homes</td>\n",
       "      <td>True</td>\n",
       "      <td>True</td>\n",
       "      <td>False</td>\n",
       "      <td>False</td>\n",
       "      <td>For Sale (Broker)</td>\n",
       "      <td>House for sale</td>\n",
       "      <td>FOR_SALE</td>\n",
       "    </tr>\n",
       "    <tr>\n",
       "      <th>2</th>\n",
       "      <td>https://www.zillow.com/homedetails/63973-Gold-...</td>\n",
       "      <td>1505009.0</td>\n",
       "      <td>1560000</td>\n",
       "      <td>1823.0</td>\n",
       "      <td>Not specified</td>\n",
       "      <td>3</td>\n",
       "      <td>3</td>\n",
       "      <td>1538</td>\n",
       "      <td>NaN</td>\n",
       "      <td>SINGLE_FAMILY</td>\n",
       "      <td>...</td>\n",
       "      <td>CA</td>\n",
       "      <td>USA</td>\n",
       "      <td>BHG Desert Lifestyle Properties</td>\n",
       "      <td>False</td>\n",
       "      <td>True</td>\n",
       "      <td>False</td>\n",
       "      <td>False</td>\n",
       "      <td>New Construction</td>\n",
       "      <td>New construction</td>\n",
       "      <td>FOR_SALE</td>\n",
       "    </tr>\n",
       "  </tbody>\n",
       "</table>\n",
       "<p>3 rows × 23 columns</p>\n",
       "</div>"
      ],
      "text/plain": [
       "                                                 Url  Zestimate    Price  \\\n",
       "0  https://www.zillow.com/homedetails/61854-Crest...   392179.0   399000   \n",
       "1  https://www.zillow.com/homedetails/4741-Avenid...   753106.0   769000   \n",
       "2  https://www.zillow.com/homedetails/63973-Gold-...  1505009.0  1560000   \n",
       "\n",
       "   Rent Zestimate Days On Zillow  Bathrooms  Bedrooms  Living Area  Lot Size  \\\n",
       "0          1897.0  Not specified          2         3         1100       NaN   \n",
       "1          2901.0  Not specified          3         4         1871       NaN   \n",
       "2          1823.0  Not specified          3         3         1538       NaN   \n",
       "\n",
       "       Home Type  ... State Country                      Broker Name  \\\n",
       "0  SINGLE_FAMILY  ...    CA     USA      REAL BROKERAGE TECHNOLOGIES   \n",
       "1  SINGLE_FAMILY  ...    CA     USA                   Backbeat Homes   \n",
       "2  SINGLE_FAMILY  ...    CA     USA  BHG Desert Lifestyle Properties   \n",
       "\n",
       "  Has 3D Model Has Image Has Video  isZillowOwned              sgapt  \\\n",
       "0        False      True     False          False  For Sale (Broker)   \n",
       "1         True      True     False          False  For Sale (Broker)   \n",
       "2        False      True     False          False   New Construction   \n",
       "\n",
       "         statusText  statusType  \n",
       "0    House for sale    FOR_SALE  \n",
       "1    House for sale    FOR_SALE  \n",
       "2  New construction    FOR_SALE  \n",
       "\n",
       "[3 rows x 23 columns]"
      ]
     },
     "execution_count": 68,
     "metadata": {},
     "output_type": "execute_result"
    }
   ],
   "source": [
    "df_sales_92252_pool.head(3)"
   ]
  },
  {
   "cell_type": "code",
   "execution_count": 69,
   "metadata": {},
   "outputs": [
    {
     "name": "stdout",
     "output_type": "stream",
     "text": [
      "Columns in all six dataframes have the same names\n"
     ]
    }
   ],
   "source": [
    "if (df_sales_92252_total.columns == df_sales_92314_total.columns).all()\\\n",
    "and (df_sales_92284_total.columns == df_sales_92314_total.columns).all()\\\n",
    "and (df_sales_92284_total.columns == df_sales_92315_total.columns).all()\\\n",
    "and (df_sales_92252_pool.columns == df_sales_92315_total.columns).all()\\\n",
    "and (df_sales_92252_pool.columns == df_sales_92284_pool.columns).all():\n",
    "    print('Columns in all six dataframes have the same names')"
   ]
  },
  {
   "cell_type": "code",
   "execution_count": 70,
   "metadata": {},
   "outputs": [
    {
     "data": {
      "text/plain": [
       "Index(['Url', 'Zestimate', 'Price', 'Rent Zestimate', 'Days On Zillow',\n",
       "       'Bathrooms', 'Bedrooms', 'Living Area', 'Lot Size', 'Home Type',\n",
       "       'Street Address', 'City', 'Zip', 'State', 'Country', 'Broker Name',\n",
       "       'Has 3D Model', 'Has Image', 'Has Video', 'isZillowOwned', 'sgapt',\n",
       "       'statusText', 'statusType'],\n",
       "      dtype='object')"
      ]
     },
     "execution_count": 70,
     "metadata": {},
     "output_type": "execute_result"
    }
   ],
   "source": [
    "df_sales_92252_total.columns"
   ]
  },
  {
   "cell_type": "code",
   "execution_count": 71,
   "metadata": {},
   "outputs": [],
   "source": [
    "#change the columns' names for easier use\n",
    "for value in dictionary_sales.values():\n",
    "    value.rename(columns={'Rent Zestimate': 'Rent_Zestimate',\n",
    "                          'Days On Zillow':'Days_On_Zillow',\n",
    "                          'Living Area': 'Living_Area',\n",
    "                          'Lot Size': 'Lot_Size',\n",
    "                          'Home Type': 'Home_Type',\n",
    "                          'Street Address': 'Street_Address',\n",
    "                          'Broker Name': 'Broker_Name',\n",
    "                          'Has 3D Model': 'Has_3D_Model',\n",
    "                          'Has Image': 'Has_Image',\n",
    "                          'Has Video': 'Has_Video'                         \n",
    "                         }, inplace=True)\n"
   ]
  },
  {
   "cell_type": "markdown",
   "metadata": {},
   "source": [
    "Given that the columns names are the same across all six dataframes, we can perform a union on four total dataframes to get one dataframe for all zipcodes."
   ]
  },
  {
   "cell_type": "code",
   "execution_count": 72,
   "metadata": {},
   "outputs": [
    {
     "data": {
      "text/plain": [
       "(353, 23)"
      ]
     },
     "execution_count": 72,
     "metadata": {},
     "output_type": "execute_result"
    }
   ],
   "source": [
    "#combine four total dataframes\n",
    "df_properties_total = pd.concat([df_sales_92252_total, df_sales_92284_total, df_sales_92314_total, df_sales_92315_total])\n",
    "df_properties_total.shape"
   ]
  },
  {
   "cell_type": "markdown",
   "metadata": {},
   "source": [
    "The dimensions of the resulting dataframe correspond to its expected shape (the sum of rows of 4 dataframes and 23 rows)."
   ]
  },
  {
   "cell_type": "code",
   "execution_count": 73,
   "metadata": {},
   "outputs": [
    {
     "data": {
      "text/html": [
       "<div>\n",
       "<style scoped>\n",
       "    .dataframe tbody tr th:only-of-type {\n",
       "        vertical-align: middle;\n",
       "    }\n",
       "\n",
       "    .dataframe tbody tr th {\n",
       "        vertical-align: top;\n",
       "    }\n",
       "\n",
       "    .dataframe thead th {\n",
       "        text-align: right;\n",
       "    }\n",
       "</style>\n",
       "<table border=\"1\" class=\"dataframe\">\n",
       "  <thead>\n",
       "    <tr style=\"text-align: right;\">\n",
       "      <th></th>\n",
       "      <th>Url</th>\n",
       "      <th>Zestimate</th>\n",
       "      <th>Price</th>\n",
       "      <th>Rent_Zestimate</th>\n",
       "      <th>Days_On_Zillow</th>\n",
       "      <th>Bathrooms</th>\n",
       "      <th>Bedrooms</th>\n",
       "      <th>Living_Area</th>\n",
       "      <th>Lot_Size</th>\n",
       "      <th>Home_Type</th>\n",
       "      <th>...</th>\n",
       "      <th>State</th>\n",
       "      <th>Country</th>\n",
       "      <th>Broker_Name</th>\n",
       "      <th>Has_3D_Model</th>\n",
       "      <th>Has_Image</th>\n",
       "      <th>Has_Video</th>\n",
       "      <th>isZillowOwned</th>\n",
       "      <th>sgapt</th>\n",
       "      <th>statusText</th>\n",
       "      <th>statusType</th>\n",
       "    </tr>\n",
       "  </thead>\n",
       "  <tbody>\n",
       "    <tr>\n",
       "      <th>0</th>\n",
       "      <td>https://www.zillow.com/homedetails/8198-Uphill...</td>\n",
       "      <td>NaN</td>\n",
       "      <td>18000000</td>\n",
       "      <td>2435.0</td>\n",
       "      <td>Not specified</td>\n",
       "      <td>4</td>\n",
       "      <td>3</td>\n",
       "      <td>5470</td>\n",
       "      <td>NaN</td>\n",
       "      <td>SINGLE_FAMILY</td>\n",
       "      <td>...</td>\n",
       "      <td>CA</td>\n",
       "      <td>USA</td>\n",
       "      <td>AKGRE Inc</td>\n",
       "      <td>False</td>\n",
       "      <td>True</td>\n",
       "      <td>False</td>\n",
       "      <td>False</td>\n",
       "      <td>For Sale (Broker)</td>\n",
       "      <td>House for sale</td>\n",
       "      <td>FOR_SALE</td>\n",
       "    </tr>\n",
       "    <tr>\n",
       "      <th>1</th>\n",
       "      <td>https://www.zillow.com/homedetails/4757-Avenid...</td>\n",
       "      <td>223200.0</td>\n",
       "      <td>399990</td>\n",
       "      <td>1786.0</td>\n",
       "      <td>Not specified</td>\n",
       "      <td>2</td>\n",
       "      <td>3</td>\n",
       "      <td>1056</td>\n",
       "      <td>NaN</td>\n",
       "      <td>SINGLE_FAMILY</td>\n",
       "      <td>...</td>\n",
       "      <td>CA</td>\n",
       "      <td>USA</td>\n",
       "      <td>Champion Realty</td>\n",
       "      <td>False</td>\n",
       "      <td>True</td>\n",
       "      <td>False</td>\n",
       "      <td>False</td>\n",
       "      <td>For Sale (Broker)</td>\n",
       "      <td>House for sale</td>\n",
       "      <td>FOR_SALE</td>\n",
       "    </tr>\n",
       "    <tr>\n",
       "      <th>2</th>\n",
       "      <td>https://www.zillow.com/homedetails/61018-Presc...</td>\n",
       "      <td>568947.0</td>\n",
       "      <td>575000</td>\n",
       "      <td>2300.0</td>\n",
       "      <td>Not specified</td>\n",
       "      <td>2</td>\n",
       "      <td>3</td>\n",
       "      <td>1577</td>\n",
       "      <td>NaN</td>\n",
       "      <td>SINGLE_FAMILY</td>\n",
       "      <td>...</td>\n",
       "      <td>CA</td>\n",
       "      <td>USA</td>\n",
       "      <td>BHG Desert Lifestyle Properties</td>\n",
       "      <td>True</td>\n",
       "      <td>True</td>\n",
       "      <td>True</td>\n",
       "      <td>False</td>\n",
       "      <td>For Sale (Broker)</td>\n",
       "      <td>House for sale</td>\n",
       "      <td>FOR_SALE</td>\n",
       "    </tr>\n",
       "  </tbody>\n",
       "</table>\n",
       "<p>3 rows × 23 columns</p>\n",
       "</div>"
      ],
      "text/plain": [
       "                                                 Url  Zestimate     Price  \\\n",
       "0  https://www.zillow.com/homedetails/8198-Uphill...        NaN  18000000   \n",
       "1  https://www.zillow.com/homedetails/4757-Avenid...   223200.0    399990   \n",
       "2  https://www.zillow.com/homedetails/61018-Presc...   568947.0    575000   \n",
       "\n",
       "   Rent_Zestimate Days_On_Zillow  Bathrooms  Bedrooms  Living_Area  Lot_Size  \\\n",
       "0          2435.0  Not specified          4         3         5470       NaN   \n",
       "1          1786.0  Not specified          2         3         1056       NaN   \n",
       "2          2300.0  Not specified          2         3         1577       NaN   \n",
       "\n",
       "       Home_Type  ... State Country                      Broker_Name  \\\n",
       "0  SINGLE_FAMILY  ...    CA     USA                        AKGRE Inc   \n",
       "1  SINGLE_FAMILY  ...    CA     USA                  Champion Realty   \n",
       "2  SINGLE_FAMILY  ...    CA     USA  BHG Desert Lifestyle Properties   \n",
       "\n",
       "  Has_3D_Model Has_Image Has_Video  isZillowOwned              sgapt  \\\n",
       "0        False      True     False          False  For Sale (Broker)   \n",
       "1        False      True     False          False  For Sale (Broker)   \n",
       "2         True      True      True          False  For Sale (Broker)   \n",
       "\n",
       "       statusText  statusType  \n",
       "0  House for sale    FOR_SALE  \n",
       "1  House for sale    FOR_SALE  \n",
       "2  House for sale    FOR_SALE  \n",
       "\n",
       "[3 rows x 23 columns]"
      ]
     },
     "execution_count": 73,
     "metadata": {},
     "output_type": "execute_result"
    }
   ],
   "source": [
    "df_properties_total.head(3)"
   ]
  },
  {
   "cell_type": "code",
   "execution_count": 74,
   "metadata": {},
   "outputs": [
    {
     "data": {
      "text/plain": [
       "(30, 23)"
      ]
     },
     "execution_count": 74,
     "metadata": {},
     "output_type": "execute_result"
    }
   ],
   "source": [
    "#combine 2 pool dataframes\n",
    "df_properties_pool = pd.concat([df_sales_92252_pool, df_sales_92284_pool])\n",
    "df_properties_pool.shape"
   ]
  },
  {
   "cell_type": "markdown",
   "metadata": {},
   "source": [
    "The dimensions of the resulting dataframe correspond to its expected shape (the sum of row of 2 dataframes and 23 rows)."
   ]
  },
  {
   "cell_type": "code",
   "execution_count": 75,
   "metadata": {},
   "outputs": [
    {
     "data": {
      "text/html": [
       "<div>\n",
       "<style scoped>\n",
       "    .dataframe tbody tr th:only-of-type {\n",
       "        vertical-align: middle;\n",
       "    }\n",
       "\n",
       "    .dataframe tbody tr th {\n",
       "        vertical-align: top;\n",
       "    }\n",
       "\n",
       "    .dataframe thead th {\n",
       "        text-align: right;\n",
       "    }\n",
       "</style>\n",
       "<table border=\"1\" class=\"dataframe\">\n",
       "  <thead>\n",
       "    <tr style=\"text-align: right;\">\n",
       "      <th></th>\n",
       "      <th>Url</th>\n",
       "      <th>Zestimate</th>\n",
       "      <th>Price</th>\n",
       "      <th>Rent_Zestimate</th>\n",
       "      <th>Days_On_Zillow</th>\n",
       "      <th>Bathrooms</th>\n",
       "      <th>Bedrooms</th>\n",
       "      <th>Living_Area</th>\n",
       "      <th>Lot_Size</th>\n",
       "      <th>Home_Type</th>\n",
       "      <th>...</th>\n",
       "      <th>Country</th>\n",
       "      <th>Broker_Name</th>\n",
       "      <th>Has_3D_Model</th>\n",
       "      <th>Has_Image</th>\n",
       "      <th>Has_Video</th>\n",
       "      <th>isZillowOwned</th>\n",
       "      <th>sgapt</th>\n",
       "      <th>statusText</th>\n",
       "      <th>statusType</th>\n",
       "      <th>Pool</th>\n",
       "    </tr>\n",
       "  </thead>\n",
       "  <tbody>\n",
       "    <tr>\n",
       "      <th>0</th>\n",
       "      <td>https://www.zillow.com/homedetails/61854-Crest...</td>\n",
       "      <td>392179.0</td>\n",
       "      <td>399000</td>\n",
       "      <td>1897.0</td>\n",
       "      <td>Not specified</td>\n",
       "      <td>2</td>\n",
       "      <td>3</td>\n",
       "      <td>1100</td>\n",
       "      <td>NaN</td>\n",
       "      <td>SINGLE_FAMILY</td>\n",
       "      <td>...</td>\n",
       "      <td>USA</td>\n",
       "      <td>REAL BROKERAGE TECHNOLOGIES</td>\n",
       "      <td>False</td>\n",
       "      <td>True</td>\n",
       "      <td>False</td>\n",
       "      <td>False</td>\n",
       "      <td>For Sale (Broker)</td>\n",
       "      <td>House for sale</td>\n",
       "      <td>FOR_SALE</td>\n",
       "      <td>True</td>\n",
       "    </tr>\n",
       "    <tr>\n",
       "      <th>1</th>\n",
       "      <td>https://www.zillow.com/homedetails/4741-Avenid...</td>\n",
       "      <td>753106.0</td>\n",
       "      <td>769000</td>\n",
       "      <td>2901.0</td>\n",
       "      <td>Not specified</td>\n",
       "      <td>3</td>\n",
       "      <td>4</td>\n",
       "      <td>1871</td>\n",
       "      <td>NaN</td>\n",
       "      <td>SINGLE_FAMILY</td>\n",
       "      <td>...</td>\n",
       "      <td>USA</td>\n",
       "      <td>Backbeat Homes</td>\n",
       "      <td>True</td>\n",
       "      <td>True</td>\n",
       "      <td>False</td>\n",
       "      <td>False</td>\n",
       "      <td>For Sale (Broker)</td>\n",
       "      <td>House for sale</td>\n",
       "      <td>FOR_SALE</td>\n",
       "      <td>True</td>\n",
       "    </tr>\n",
       "    <tr>\n",
       "      <th>2</th>\n",
       "      <td>https://www.zillow.com/homedetails/63973-Gold-...</td>\n",
       "      <td>1505009.0</td>\n",
       "      <td>1560000</td>\n",
       "      <td>1823.0</td>\n",
       "      <td>Not specified</td>\n",
       "      <td>3</td>\n",
       "      <td>3</td>\n",
       "      <td>1538</td>\n",
       "      <td>NaN</td>\n",
       "      <td>SINGLE_FAMILY</td>\n",
       "      <td>...</td>\n",
       "      <td>USA</td>\n",
       "      <td>BHG Desert Lifestyle Properties</td>\n",
       "      <td>False</td>\n",
       "      <td>True</td>\n",
       "      <td>False</td>\n",
       "      <td>False</td>\n",
       "      <td>New Construction</td>\n",
       "      <td>New construction</td>\n",
       "      <td>FOR_SALE</td>\n",
       "      <td>True</td>\n",
       "    </tr>\n",
       "  </tbody>\n",
       "</table>\n",
       "<p>3 rows × 24 columns</p>\n",
       "</div>"
      ],
      "text/plain": [
       "                                                 Url  Zestimate    Price  \\\n",
       "0  https://www.zillow.com/homedetails/61854-Crest...   392179.0   399000   \n",
       "1  https://www.zillow.com/homedetails/4741-Avenid...   753106.0   769000   \n",
       "2  https://www.zillow.com/homedetails/63973-Gold-...  1505009.0  1560000   \n",
       "\n",
       "   Rent_Zestimate Days_On_Zillow  Bathrooms  Bedrooms  Living_Area  Lot_Size  \\\n",
       "0          1897.0  Not specified          2         3         1100       NaN   \n",
       "1          2901.0  Not specified          3         4         1871       NaN   \n",
       "2          1823.0  Not specified          3         3         1538       NaN   \n",
       "\n",
       "       Home_Type  ... Country                      Broker_Name  Has_3D_Model  \\\n",
       "0  SINGLE_FAMILY  ...     USA      REAL BROKERAGE TECHNOLOGIES         False   \n",
       "1  SINGLE_FAMILY  ...     USA                   Backbeat Homes          True   \n",
       "2  SINGLE_FAMILY  ...     USA  BHG Desert Lifestyle Properties         False   \n",
       "\n",
       "  Has_Image Has_Video isZillowOwned              sgapt        statusText  \\\n",
       "0      True     False         False  For Sale (Broker)    House for sale   \n",
       "1      True     False         False  For Sale (Broker)    House for sale   \n",
       "2      True     False         False   New Construction  New construction   \n",
       "\n",
       "   statusType  Pool  \n",
       "0    FOR_SALE  True  \n",
       "1    FOR_SALE  True  \n",
       "2    FOR_SALE  True  \n",
       "\n",
       "[3 rows x 24 columns]"
      ]
     },
     "execution_count": 75,
     "metadata": {},
     "output_type": "execute_result"
    }
   ],
   "source": [
    "#add a True/False column to pool dataset\n",
    "df_properties_pool['Pool'] = True\n",
    "df_properties_pool.head(3)"
   ]
  },
  {
   "cell_type": "code",
   "execution_count": 76,
   "metadata": {},
   "outputs": [
    {
     "name": "stdout",
     "output_type": "stream",
     "text": [
      "<class 'pandas.core.frame.DataFrame'>\n",
      "Int64Index: 353 entries, 0 to 352\n",
      "Data columns (total 24 columns):\n",
      " #   Column          Non-Null Count  Dtype  \n",
      "---  ------          --------------  -----  \n",
      " 0   Url             353 non-null    object \n",
      " 1   Zestimate       321 non-null    float64\n",
      " 2   Price           353 non-null    int64  \n",
      " 3   Rent_Zestimate  330 non-null    float64\n",
      " 4   Days_On_Zillow  353 non-null    object \n",
      " 5   Bathrooms       353 non-null    int64  \n",
      " 6   Bedrooms        353 non-null    int64  \n",
      " 7   Living_Area     353 non-null    int64  \n",
      " 8   Lot_Size        0 non-null      float64\n",
      " 9   Home_Type       353 non-null    object \n",
      " 10  Street_Address  353 non-null    object \n",
      " 11  City            353 non-null    object \n",
      " 12  Zip             353 non-null    int64  \n",
      " 13  State           353 non-null    object \n",
      " 14  Country         353 non-null    object \n",
      " 15  Broker_Name     330 non-null    object \n",
      " 16  Has_3D_Model    353 non-null    bool   \n",
      " 17  Has_Image       353 non-null    bool   \n",
      " 18  Has_Video       353 non-null    bool   \n",
      " 19  isZillowOwned   353 non-null    bool   \n",
      " 20  sgapt           353 non-null    object \n",
      " 21  statusText      353 non-null    object \n",
      " 22  statusType      353 non-null    object \n",
      " 23  Pool            30 non-null     object \n",
      "dtypes: bool(4), float64(3), int64(5), object(12)\n",
      "memory usage: 42.7+ KB\n"
     ]
    }
   ],
   "source": [
    "#join all dataframes in one with extra column for Pool\n",
    "df_properties_full = df_properties_total.merge(df_properties_pool, how='left', on=list(df_properties_total.columns))\n",
    "df_properties_full.info()"
   ]
  },
  {
   "cell_type": "markdown",
   "metadata": {},
   "source": [
    "The df_properties_full dataframe correspond to the expected result in terms of number of rows, columns and non null values in the *Pool* column."
   ]
  },
  {
   "cell_type": "code",
   "execution_count": 77,
   "metadata": {},
   "outputs": [],
   "source": [
    "#fill the null values with False for zipcodes 92284 and 92252\n",
    "df_properties_full.loc[(df_properties_full['Zip'].isin([92284,92252])) & (df_properties_full['Pool'] != True), 'Pool'] = False"
   ]
  },
  {
   "cell_type": "code",
   "execution_count": 78,
   "metadata": {},
   "outputs": [
    {
     "data": {
      "text/plain": [
       "False    160\n",
       "True      30\n",
       "Name: Pool, dtype: int64"
      ]
     },
     "execution_count": 78,
     "metadata": {},
     "output_type": "execute_result"
    }
   ],
   "source": [
    "df_properties_full.loc[df_properties_full['Zip'].isin([92284,92252]), 'Pool'].value_counts()"
   ]
  },
  {
   "cell_type": "code",
   "execution_count": 79,
   "metadata": {},
   "outputs": [],
   "source": [
    "#fill the null values for other zipcodes with 'No data available'\n",
    "df_properties_full['Pool'].fillna('No data available', inplace=True)"
   ]
  },
  {
   "cell_type": "code",
   "execution_count": 80,
   "metadata": {},
   "outputs": [
    {
     "data": {
      "text/plain": [
       "No data available    163\n",
       "False                160\n",
       "True                  30\n",
       "Name: Pool, dtype: int64"
      ]
     },
     "execution_count": 80,
     "metadata": {},
     "output_type": "execute_result"
    }
   ],
   "source": [
    "df_properties_full['Pool'].value_counts()"
   ]
  },
  {
   "cell_type": "markdown",
   "metadata": {},
   "source": [
    "The *Lot_Size* column is composed of nulls, so it can be dropped."
   ]
  },
  {
   "cell_type": "code",
   "execution_count": 81,
   "metadata": {},
   "outputs": [],
   "source": [
    "df_properties_full.drop('Lot_Size', axis=1, inplace=True)"
   ]
  },
  {
   "cell_type": "markdown",
   "metadata": {},
   "source": [
    "### Object-type columns"
   ]
  },
  {
   "cell_type": "code",
   "execution_count": 82,
   "metadata": {},
   "outputs": [
    {
     "data": {
      "text/plain": [
       "array(['Not specified'], dtype=object)"
      ]
     },
     "execution_count": 82,
     "metadata": {},
     "output_type": "execute_result"
    }
   ],
   "source": [
    "df_properties_full.Days_On_Zillow.unique()"
   ]
  },
  {
   "cell_type": "code",
   "execution_count": 83,
   "metadata": {},
   "outputs": [
    {
     "data": {
      "text/plain": [
       "array(['SINGLE_FAMILY'], dtype=object)"
      ]
     },
     "execution_count": 83,
     "metadata": {},
     "output_type": "execute_result"
    }
   ],
   "source": [
    "df_properties_full.Home_Type.unique()"
   ]
  },
  {
   "cell_type": "markdown",
   "metadata": {},
   "source": [
    "There is no informative data in the columns *Days_On_Zillow* and *Home_Type*, so they can be dropped."
   ]
  },
  {
   "cell_type": "code",
   "execution_count": 84,
   "metadata": {},
   "outputs": [],
   "source": [
    "df_properties_full.drop('Days_On_Zillow', axis=1, inplace=True)\n",
    "df_properties_full.drop('Home_Type', axis=1, inplace=True)"
   ]
  },
  {
   "cell_type": "code",
   "execution_count": 85,
   "metadata": {},
   "outputs": [
    {
     "data": {
      "text/plain": [
       "array(['USA'], dtype=object)"
      ]
     },
     "execution_count": 85,
     "metadata": {},
     "output_type": "execute_result"
    }
   ],
   "source": [
    "df_properties_full.Country.unique()"
   ]
  },
  {
   "cell_type": "code",
   "execution_count": 86,
   "metadata": {},
   "outputs": [
    {
     "data": {
      "text/plain": [
       "array(['CA'], dtype=object)"
      ]
     },
     "execution_count": 86,
     "metadata": {},
     "output_type": "execute_result"
    }
   ],
   "source": [
    "df_properties_full.State.unique()"
   ]
  },
  {
   "cell_type": "markdown",
   "metadata": {},
   "source": [
    "The Country and State columns contain only one value and are not informative."
   ]
  },
  {
   "cell_type": "code",
   "execution_count": 87,
   "metadata": {},
   "outputs": [],
   "source": [
    "df_properties_full.drop('Country', axis=1, inplace=True)\n",
    "df_properties_full.drop('State', axis=1, inplace=True)"
   ]
  },
  {
   "cell_type": "code",
   "execution_count": 88,
   "metadata": {},
   "outputs": [
    {
     "data": {
      "text/plain": [
       "array(['Joshua Tree', 'Panorama Heights', 'Yucca Valley', 'Big Bear City',\n",
       "       'Big Bear Lake'], dtype=object)"
      ]
     },
     "execution_count": 88,
     "metadata": {},
     "output_type": "execute_result"
    }
   ],
   "source": [
    "df_properties_full.City.unique()"
   ]
  },
  {
   "cell_type": "markdown",
   "metadata": {},
   "source": [
    "The properties in 'Panorama Heights' & 'Yucca Valley' might not be of interest but let's check the zipcodes first."
   ]
  },
  {
   "cell_type": "code",
   "execution_count": 89,
   "metadata": {},
   "outputs": [
    {
     "data": {
      "text/plain": [
       "array([92252, 92284, 92314, 92315], dtype=int64)"
      ]
     },
     "execution_count": 89,
     "metadata": {},
     "output_type": "execute_result"
    }
   ],
   "source": [
    "df_properties_full.Zip.unique()"
   ]
  },
  {
   "cell_type": "markdown",
   "metadata": {},
   "source": [
    "All zipcodes correspond to Big Bear and Joshua Tree and their surroundings."
   ]
  },
  {
   "cell_type": "code",
   "execution_count": 90,
   "metadata": {},
   "outputs": [
    {
     "data": {
      "text/plain": [
       "array(['8198 Uphill Rd', '4757 Avenida La Espana Daga',\n",
       "       '61018 Prescott Trl', '61875 Anaconda Dr', '61879 Petunia Dr',\n",
       "       '7201 Demesne Rd', '61854 Crest Cir', '61635 Adobe Dr',\n",
       "       '60217 Sunny Sands Dr', '65226 Broadway St', '61756 Navajo Trl',\n",
       "       '4741 Avenida Del Sol', '7835 Conejo Ave',\n",
       "       '4851 Avenida La Manana', '678 Polaris Ave',\n",
       "       '63973 Gold Nugget Ave', '60425 Alta Mura Dr', '64827 3rd St S',\n",
       "       '61880 Valley View Cir', '60184 Natoma Trl', '61415 Alta Loma Dr',\n",
       "       '62176 Highland View Dr', '61970 Petunia Dr', '7736 Elwood St',\n",
       "       '2651 Foxy Flats Rd', '60440 Granada Dr', '61464 Melton Trl',\n",
       "       '2838 Rice Ave', '6315 El Reposo Cir', '3382 Center Ave',\n",
       "       '61727 Morningside Rd', '7153 Olympic Rd', '7037 Conejo Ave',\n",
       "       '8080 Wesley Rd', '885 Sungold Ave', '4622 Avenida La Mirada Trl',\n",
       "       '61745 Pueblo Trl', '61836 Grand View Cir', '6715 Torres Ave',\n",
       "       '61426 Alta Vista Dr', '6655 Cascade Rd', '60440 Alta Mesa Dr',\n",
       "       '6828 Hill View Rd', '61516 Valley View Dr', '62250 Campanula St',\n",
       "       '4574 Avenida Del Sol', '62610 Belmont St', '62282 Dennis Ave',\n",
       "       '60205 Latham Trl', '61572 Calle Del Rio', '61729 Oleander Dr',\n",
       "       '4334 Wren Rd', '4590 Avenida Del Sol', '7075 Sunny Vista Rd',\n",
       "       '7837 Sunny Vista Rd', '61471 El Cajon Dr', '61530 Sandalwood Trl',\n",
       "       '63576 4th St S', '7895 Sunset Rd', '7696 Elwood St',\n",
       "       '61931 Oleander Dr', '62831 Overhill Rd', '3034 Center Ave',\n",
       "       '65057 Venus St', '61766 Pueblo Trl', '7070 Stoney Crest Dr',\n",
       "       '61700 W Pkwy', '64275 Orion Dr', '64873 Chollita Rd',\n",
       "       '62036 Bonair Rd', '7320 Sherwood Rd', '0 Sunfair Rd',\n",
       "       '7160 Olympic Rd', '58176 Desert Gold Dr', '9025 Warren Vista Ave',\n",
       "       '57557 Sunny Slope Dr', '56276 Breezy Ln', '4343 Avalon Ave',\n",
       "       '7552 Cardillo Trl', '7614 Ventura Ave', '7433 Dumosa Ave',\n",
       "       '54610 Primavera Dr', '8552 Taft Ct', '56834 Navajo Trl',\n",
       "       '7120 Emerson Ave', '5088 Elata Ave', '58574 Buena Vista Dr',\n",
       "       '58872 Meredith Ct', '57845 San Andreas Rd',\n",
       "       '57439 Saint Marys Dr', '1426 Hilton Ave', '7641 Warren Vista Ave',\n",
       "       '7650 Rockaway Ave', '59325 Canterbury St', '56808 Kismet Rd',\n",
       "       '58250 Sierra Vista Dr', '3990 Bonita Ave', '7478 Goleta Ave',\n",
       "       '7632 Aster Ave', '7463 Dumosa Ave', '8582 Frontera Ave',\n",
       "       '7685 Victoria Ave', '7621 Hanford Ave', '7629 Rockaway Ave',\n",
       "       '56814 Ivanhoe Dr', '7431 Condalia Ave', '56643 Kismet Rd',\n",
       "       '57085 Monticello Ct', '7429 Chippewa Trl', '6372 Marvin Dr',\n",
       "       '57077 Selecta Ave', '7354 Rubidoux Ave', '7399 Palomar Ave',\n",
       "       '7361 Avalon Ave', '9255 Fortuna Ave', '8361 Amador Ave',\n",
       "       '59624 Sunflower Dr', '56594 Zuni Trl', '57355 Sierra Way',\n",
       "       '6531 Prescott Ave', '57075 Farrelo Ct', '8210 Church St',\n",
       "       '7422 Joshua Ln', '7575 Inca Trl', '7060 Scarvan Rd',\n",
       "       '55960 Onaga Trl', '58783 Santa Barbara Dr', '59156 Nelson Ave',\n",
       "       '6328 Palo Alto Ave', '9189 Del Monte Ave', '7475 San Remo Trl',\n",
       "       '4918 Goleta Ave', '56676 Sunset Dr', '3635 Warren Vista Ave',\n",
       "       '56763 Java Dr', '57815 San Tropeze Dr', '57088 Monticello Rd',\n",
       "       '8487 Deer Trl', '56245 Cobalt Rd', '56609 Carlyle Dr',\n",
       "       '57915 Joshua Ln', '8741 Frontera Ave', '57131 Juarez Dr',\n",
       "       '56839 Bonanza Dr', '7731 Arrowhead Dr', '7747 Hopi Trl',\n",
       "       '57288 Farrelo Rd', '57387 Aviation Dr', '57801 Saratoga St',\n",
       "       '7513 Warren Vista Ave', '54889 Navajo Trl', '57468 Sierra Way',\n",
       "       '57093 Montecello Ct', '7671 Emerson Ave', '57347 San Juan Rd',\n",
       "       '4575 Avalon Ave', '9588 Black Rock Canyon Rd',\n",
       "       '58318 Canterbury St', '58235 Sun Via Dr', '7483 Goleta Ave',\n",
       "       '55084 Cheechaco Trl', '7410 Joshua Ln', '58773 Campero Dr',\n",
       "       '58148 Sierra Vista Dr', '4921 El Dorado Ave',\n",
       "       '56445 El Dorado Ave', '54799 Navajo Trl', '3484 El Dorado Rd',\n",
       "       '58971 Carmelita Cir', '54005 Pinon Dr', '59115 Mesa Dr',\n",
       "       '8508 Juarez Ct', '9059 Balsa Ave', '58146 Spring Dr',\n",
       "       '58711 Sunny Sands Dr', '58424 Desert Gold Dr', '6339 Goleta Ave',\n",
       "       '58345 Bonanza Dr', '58720 Cortez Dr #A', '59168 Forrest Dr',\n",
       "       '58314 Navajo Trl', '8099 Palomar Ave', '57839 Terbush Ave',\n",
       "       '56655 Taos Trl', '7499 Bonita Trl', '57055 Antelope Trl',\n",
       "       '7812 Condalia Ave', '3832 Avalon Ave', '58713 Sun Via Dr',\n",
       "       '5253 Puente Ct', '316 Maple Ridge Dr', '1113 Michael Ave',\n",
       "       '919 Robinhood Blvd', '824 Raleigh Dr', '1000 Willow Ln',\n",
       "       '913 Mount Doble Dr', '281 Pine Ln', '701 Villa Grove Ave',\n",
       "       '352 Lookout Dr', '1526 Monte Vista Dr', '1281 Minton Dr',\n",
       "       '1635 Shenandoah Way', '1130 Rocky Mountain Rd',\n",
       "       '277 Greenspot Blvd', '305 Lookout Dr', '329 E Sherwood Blvd',\n",
       "       '369 Greenspot Blvd', '1009 Heritage Trl', '1194 Alameda Ct',\n",
       "       '1658 Tuolumne Rd', '1242 Panorama Dr', '46125 Vale Dr',\n",
       "       '764 Panamint Mountain Dr', '1048 Hemlock Ln',\n",
       "       '1842 Baldwin Lake Rd', '1185 Mitchell Ln', '666 Butte Ave',\n",
       "       '1526 Malabar Way', '929 Myrtle Ave', '2149 1st Ln',\n",
       "       '1416 Klamath Rd', '46647 Arastre Rd', '1020 Whispering Forest Dr',\n",
       "       '46895 Estacia Rd', '1125 W Big Bear Blvd', '1027 Heritage Trl',\n",
       "       '109 Palomino Dr', '1331 La Crescenta Dr', '160 Yosemite Dr',\n",
       "       '449 E Barker Blvd', '1037 Van Dusen Canyon Rd', '42539 Bear Loop',\n",
       "       '1112 Cedar Mountain Rd', '1033 Heritage Trl', '2047 7th Ln',\n",
       "       '2111 7th Ln', '1690 Cascade Rd', '46242 Curvate Dr',\n",
       "       '1150 Valley View Dr', '350 Brewer Way', '1640 Shenandoah Way',\n",
       "       '236 Greenspot Blvd', '998 Feather Mountain Dr', '433 Eton Ln',\n",
       "       '400 San Martin St', '912 Bear Mountain Rd', '512 Bernhardt Ln',\n",
       "       '43032 Sunset Dr', '745 Eureka Dr', '42998 Monterey St',\n",
       "       '986 Cameron Dr', '42876 Encino Rd', '422 Quail Dr',\n",
       "       '615 Thrush Dr', '40238 Bonita Ln', '107 Round Dr',\n",
       "       '409 Glenwood Dr', '405 Glenwood Dr', '791 Knight Ave',\n",
       "       '43589 Yosemite Dr', '39934 Forest Dr', '43442 Bow Canyon Rd',\n",
       "       '145 Finch Dr', '159 Oriole Dr', '1329 Buffalo Ct',\n",
       "       '39045 Big Bear Blvd', '40588 Ironwood Dr', '42584 Falcon Ave',\n",
       "       '41952 Mapleleaf Dr', '372 Quail Dr', '370 Starlight Cir',\n",
       "       '38609 Talbot Dr', '42625 Alta Vista Ave', '780 N Star Dr',\n",
       "       '42756 Castlewood Dr', '40144 Hillcrest Dr', '591 Douglas St',\n",
       "       '756 Manzanita Ct', '732 Conklin Rd', '42620 Cedar Ave',\n",
       "       '43368 Ridge Crest Dr', '42401 Heavenly Valley Rd',\n",
       "       '38969 N Bay Dr', '40128 Hillcrest Dr', '1144 Sheephorn Rd',\n",
       "       '791 Cove Dr', '465 Temple Ln', '41984 Mapleleaf Dr',\n",
       "       '41599 Stonebridge Rd', '39363 Aurora Rd', '185 Teakwood Dr',\n",
       "       '934 Menlo Dr', '805 Rayo Ln', '1224 Redwood Dr',\n",
       "       '43396 Primrose Dr', '42618 Peregrine Ave', '484 Edgemoor Rd',\n",
       "       '796 Cove Dr', '43166 Sunset Dr', '595 Killington Way',\n",
       "       '42580 Willow Ave', '1179 Sheephorn Rd', '518 Waynoka Ln',\n",
       "       '112 Eagle Dr', '43076 Moonridge Rd', '40031 Hillcrest Dr',\n",
       "       '872 Conklin Rd', '426 Eagle Lake Dr', '41562 Park Ave',\n",
       "       '39209 Big Bear Blvd', '205 Lagunita Ln', '871 Elm St',\n",
       "       '42255 Castle Crag Rd', '41941 Evergreen Dr', '729 Cove Dr',\n",
       "       '40072 Lakeview Dr', '1229 Alpenweg Dr', '42538 La Placida Ave',\n",
       "       '580 Talmadge Rd', '430 Gibralter Rd', '42384 Eagle Ridge Dr',\n",
       "       '441 Santa Clara Blvd', '39179 Chincapin Rd', '193 Lagunita Ln',\n",
       "       '832 Menlo Dr', '39996 Glenview Rd', '43128 Moonridge Rd',\n",
       "       '651 Chipmunk Ln', '154 Lagunita Ln', '477 Windsong Pl',\n",
       "       '43636 Sheephorn Rd', '166 Teakwood Dr', '41770 Tanager Dr',\n",
       "       '43555 Sand Canyon Rd', '42381 Avalon Rd', '814 Rayo Ln',\n",
       "       '43869 Mendocino Dr', '39197 Waterview Dr', '1646 Tuolomne Rd',\n",
       "       '772 Cove Dr', '43406 Ridge Crest Dr', '308 Eagle Dr',\n",
       "       '355 Tannenbaum Dr', '43040 Sunset Dr', '251 Eagle Dr',\n",
       "       '402 Glenwood Dr', '801 Cameron Dr', '41829 Switzerland Dr',\n",
       "       '351 Glenwood Dr', '0 Cienega Rd'], dtype=object)"
      ]
     },
     "execution_count": 90,
     "metadata": {},
     "output_type": "execute_result"
    }
   ],
   "source": [
    "df_properties_full.Street_Address.unique()"
   ]
  },
  {
   "cell_type": "markdown",
   "metadata": {},
   "source": [
    "The quality of the *street address* columns seems to be rather good."
   ]
  },
  {
   "cell_type": "code",
   "execution_count": 91,
   "metadata": {},
   "outputs": [
    {
     "data": {
      "text/plain": [
       "142"
      ]
     },
     "execution_count": 91,
     "metadata": {},
     "output_type": "execute_result"
    }
   ],
   "source": [
    "df_properties_full.Broker_Name.nunique()"
   ]
  },
  {
   "cell_type": "code",
   "execution_count": 136,
   "metadata": {},
   "outputs": [
    {
     "data": {
      "text/plain": [
       "['A + realty & mortgage',\n",
       " 'Active realty',\n",
       " 'Akgre inc',\n",
       " 'All nations realty & invs',\n",
       " 'All star realty',\n",
       " 'Alpine realty',\n",
       " 'Alta realty group ca, inc',\n",
       " 'Alticore realty',\n",
       " 'Amer jakher',\n",
       " 'Backbeat homes',\n",
       " 'Berkshire hathaway h.s.c.p.',\n",
       " 'Beverly and company, inc.',\n",
       " 'Bhg desert lifestyle properties',\n",
       " 'Bhhs ca properties',\n",
       " 'Blockchain realty, inc.',\n",
       " 'Braxton real estate',\n",
       " 'Bruin trojan realtors, inc.',\n",
       " 'Building joshua tree real estate',\n",
       " 'California realty solutions',\n",
       " 'Capital real estate & inv',\n",
       " 'Capitis real estate',\n",
       " 'Century 21 allstars',\n",
       " 'Century 21 lotus',\n",
       " 'Century 21 peak',\n",
       " 'Century 21 realty masters',\n",
       " 'Century 21 wright',\n",
       " 'Champion realty',\n",
       " 'Charis real estate',\n",
       " 'Cherie miller & assoc.',\n",
       " 'Choice real estate brokers',\n",
       " 'Coldwell banker home source',\n",
       " 'Coldwell banker realty',\n",
       " 'Coldwell banker roadrunner',\n",
       " 'Coldwell banker sky ridge rlty',\n",
       " 'Compass',\n",
       " 'Corcoran global living',\n",
       " 'Corey jenson, broker',\n",
       " \"Desert sotheby's international realty\",\n",
       " 'Dwyer real estate & development',\n",
       " 'Dynasty real estate',\n",
       " 'Equity union',\n",
       " 'Excalibur realty',\n",
       " 'Excellence re real estate',\n",
       " 'Exp realty of california inc.',\n",
       " 'Exp realty of california, inc.',\n",
       " 'Fathom realty group, inc.',\n",
       " 'First team real estate',\n",
       " 'Fiv realty co',\n",
       " 'Gary casmano, broker',\n",
       " 'Good deal realty inc.',\n",
       " 'Green real estate group',\n",
       " 'Harcourts prime properties',\n",
       " 'Harvest realty development',\n",
       " 'Homecoin.com',\n",
       " 'Homequest real estate',\n",
       " 'Homesmart',\n",
       " 'Homesmart evergreen realty',\n",
       " 'Homesmart professionals',\n",
       " 'I heart real estate, inc.',\n",
       " 'Ice realty group',\n",
       " 'Inspire real estate',\n",
       " 'Investorsally realty',\n",
       " 'John cotoi broker',\n",
       " 'Jonathan whitesides, broker',\n",
       " 'Joshua tree modern',\n",
       " 'Joshua tree realty',\n",
       " 'Kase real estate',\n",
       " 'Keller williams bbla',\n",
       " 'Keller williams beverly hills',\n",
       " 'Keller williams big bear lake arrowhead',\n",
       " 'Keller williams north valley',\n",
       " 'Keller williams realty',\n",
       " 'Keller williams realty-studio city',\n",
       " 'Keller williams signature rlty',\n",
       " 'Ken scott real estate',\n",
       " 'Kristine garcia, broker',\n",
       " 'Kw temecula',\n",
       " 'Malbec realty',\n",
       " 'Mark 1 real estate, inc.',\n",
       " 'Michel harb, broker',\n",
       " 'Mills realty of california',\n",
       " 'Mountain lake properties, inc.',\n",
       " 'Nexthome select realtors',\n",
       " 'No data available',\n",
       " 'Oasis realty group inc.',\n",
       " 'Parent realty',\n",
       " 'Pinnacle estate properties',\n",
       " 'Platinum finance properties',\n",
       " 'Plf real estate solutions',\n",
       " 'Ponce & ponce realty',\n",
       " 'Power real estate',\n",
       " 'Quality real estate corp.',\n",
       " 'Re/max area experts',\n",
       " 'Re/max big bear',\n",
       " 'Re/max connections',\n",
       " 'Re/max olympic',\n",
       " 'Re/max one',\n",
       " 'Re/max time realty',\n",
       " 'Real brokerage technologies',\n",
       " 'Realty 1',\n",
       " 'Realty masters & associates',\n",
       " 'Realty one group empire',\n",
       " 'Realty one group homelink',\n",
       " 'Realty one group united',\n",
       " 'Realty professionals of the morongo basin',\n",
       " 'Redfin corporation',\n",
       " 'Refined realty',\n",
       " 'Reliance real estate services',\n",
       " 'Revilo realty, inc.',\n",
       " 'Rodeo realty',\n",
       " 'Sharon rose realty, inc.',\n",
       " \"Sotheby's international realty\",\n",
       " 'Stillwater real estate',\n",
       " 'Strategy realty',\n",
       " 'The agency',\n",
       " 'The glen realty',\n",
       " 'Tiempo realty',\n",
       " 'Tng real estate consultants',\n",
       " 'Tri-valley realty',\n",
       " 'Triad, realtors® yucca valley',\n",
       " 'Vacasa real estate corp.',\n",
       " 'Venture real estate',\n",
       " 'Vip real estate firm',\n",
       " 'Weststar real estate',\n",
       " \"Wheeler steffen sotheby's int.\",\n",
       " 'William johnson, broker',\n",
       " 'William kennedy and associates',\n",
       " 'Yucca valley realty, inc.']"
      ]
     },
     "execution_count": 136,
     "metadata": {},
     "output_type": "execute_result"
    }
   ],
   "source": [
    "sorted(list(df_properties_full.Broker_Name.dropna().str.capitalize().unique()))"
   ]
  },
  {
   "cell_type": "markdown",
   "metadata": {},
   "source": [
    "The *Broker_Name* column has some duplicates like 'eXp Realty of California Inc' and 'EXP REALTY OF CALIFORNIA INC' due to different case-use or different degrees of detail as in 'Berkshire Hathaway H.S.C.P.', 'Berkshire Hathaway HomeService', 'Berkshire Hathaway HomeServices' and 'Berkshire Hathaway HomeServices California Properties'.\n",
    "\n",
    "**Are  'Coldwell banker home source', 'Coldwell banker realty', 'Coldwell banker roadrunner', 'Coldwell banker sky ridge rlty', related in any way? \n",
    "Are 'Homesmart', 'Homesmart evergreen realty', 'Homesmart professionals', 'Homesmart, evergreen realty' the same?**"
   ]
  },
  {
   "cell_type": "code",
   "execution_count": 113,
   "metadata": {},
   "outputs": [],
   "source": [
    "df_properties_full['Broker_Name'].fillna('No data available', inplace=True)"
   ]
  },
  {
   "cell_type": "code",
   "execution_count": 123,
   "metadata": {},
   "outputs": [],
   "source": [
    "#homogenize different versions of Bruin Trojan Realtors, Inc.\n",
    "df_properties_full.loc[df_properties_full['Broker_Name'].\\\n",
    "                       str.contains('Bruin Trojan Realtors', flags=re.IGNORECASE), 'Broker_Name'] = 'Bruin Trojan Realtors, Inc.'"
   ]
  },
  {
   "cell_type": "code",
   "execution_count": 119,
   "metadata": {},
   "outputs": [],
   "source": [
    "#homogenize different versions of Berkshire Hathaway H.S.C.P.\n",
    "df_properties_full.loc[df_properties_full['Broker_Name'].\\\n",
    "                       str.contains('Berkshire Hathaway', flags=re.IGNORECASE), 'Broker_Name'] = 'Berkshire Hathaway H.S.C.P.'"
   ]
  },
  {
   "cell_type": "code",
   "execution_count": 125,
   "metadata": {},
   "outputs": [],
   "source": [
    "#homogenize different versions of eXp Realty of California Inc.\n",
    "df_properties_full.loc[df_properties_full['Broker_Name'].\\\n",
    "                       str.contains('Exp realty of california inc', flags=re.IGNORECASE), 'Broker_Name'] = 'eXp Realty of California Inc.'"
   ]
  },
  {
   "cell_type": "code",
   "execution_count": 130,
   "metadata": {},
   "outputs": [],
   "source": [
    "#homogenize different versions of HomeSmart Evergreen Realty (not sure if Homesmart and Homesmart Professionals is he same)\n",
    "df_properties_full.loc[df_properties_full['Broker_Name'].\\\n",
    "                       str.contains('evergreen realty', flags=re.IGNORECASE), 'Broker_Name'] = 'HomeSmart Evergreen Realty'"
   ]
  },
  {
   "cell_type": "code",
   "execution_count": 132,
   "metadata": {},
   "outputs": [],
   "source": [
    "#homogenize different versions of Vacasa Real Estate Corp.\n",
    "df_properties_full.loc[df_properties_full['Broker_Name'].\\\n",
    "                       str.contains('Vacasa real estate', flags=re.IGNORECASE), 'Broker_Name'] = 'Vacasa Real Estate Corp.'"
   ]
  },
  {
   "cell_type": "code",
   "execution_count": 134,
   "metadata": {},
   "outputs": [],
   "source": [
    "#homogenize different versions of Wheeler Steffen Sotheby's Int.\n",
    "df_properties_full.loc[df_properties_full['Broker_Name'].\\\n",
    "                       str.contains(\"Wheeler steffen sotheby's\", flags=re.IGNORECASE), 'Broker_Name'] = \"Wheeler Steffen Sotheby's Int.\""
   ]
  },
  {
   "cell_type": "code",
   "execution_count": 135,
   "metadata": {},
   "outputs": [
    {
     "data": {
      "text/plain": [
       "133"
      ]
     },
     "execution_count": 135,
     "metadata": {},
     "output_type": "execute_result"
    }
   ],
   "source": [
    "#check how many duplicates were homogenized\n",
    "df_properties_full.Broker_Name.nunique()"
   ]
  },
  {
   "cell_type": "code",
   "execution_count": 144,
   "metadata": {},
   "outputs": [
    {
     "data": {
      "text/plain": [
       "For Sale (Broker)    323\n",
       "New Construction      26\n",
       "Foreclosure            3\n",
       "Unknown Listed By      1\n",
       "Name: sgapt, dtype: int64"
      ]
     },
     "execution_count": 144,
     "metadata": {},
     "output_type": "execute_result"
    }
   ],
   "source": [
    "df_properties_full.sgapt.value_counts()"
   ]
  },
  {
   "cell_type": "code",
   "execution_count": 145,
   "metadata": {},
   "outputs": [
    {
     "data": {
      "text/plain": [
       "House for sale      323\n",
       "New construction     26\n",
       "Foreclosure           3\n",
       "Auction               1\n",
       "Name: statusText, dtype: int64"
      ]
     },
     "execution_count": 145,
     "metadata": {},
     "output_type": "execute_result"
    }
   ],
   "source": [
    "df_properties_full.statusText.value_counts()"
   ]
  },
  {
   "cell_type": "markdown",
   "metadata": {},
   "source": [
    "Are \"For Sale (Broker)\" in *sgapt* and \"House for sale\" in *statusText* the same?"
   ]
  },
  {
   "cell_type": "code",
   "execution_count": 158,
   "metadata": {},
   "outputs": [
    {
     "data": {
      "text/plain": [
       "0"
      ]
     },
     "execution_count": 158,
     "metadata": {},
     "output_type": "execute_result"
    }
   ],
   "source": [
    "df_properties_full.query('sgapt == \"For Sale (Broker)\" & statusText != \"House for sale\"').any().sum()"
   ]
  },
  {
   "cell_type": "markdown",
   "metadata": {},
   "source": [
    "Given that all but 1 values match in these columns (except \"Unknown Listed By\" vs \"Auction\"), a less complete one can be dropped."
   ]
  },
  {
   "cell_type": "code",
   "execution_count": 159,
   "metadata": {},
   "outputs": [],
   "source": [
    "df_properties_full.drop('sgapt', axis=1, inplace=True)"
   ]
  },
  {
   "cell_type": "code",
   "execution_count": 140,
   "metadata": {},
   "outputs": [
    {
     "data": {
      "text/plain": [
       "array(['FOR_SALE'], dtype=object)"
      ]
     },
     "execution_count": 140,
     "metadata": {},
     "output_type": "execute_result"
    }
   ],
   "source": [
    "df_properties_full.statusType.unique()"
   ]
  },
  {
   "cell_type": "markdown",
   "metadata": {},
   "source": [
    "*statusType* column is not informative and can be dropped "
   ]
  },
  {
   "cell_type": "code",
   "execution_count": 141,
   "metadata": {},
   "outputs": [],
   "source": [
    "df_properties_full.drop('statusType', axis=1, inplace=True)"
   ]
  },
  {
   "cell_type": "markdown",
   "metadata": {},
   "source": [
    "### Numeric columns"
   ]
  },
  {
   "cell_type": "markdown",
   "metadata": {},
   "source": [
    "*What is Zestimate and Rent_Zestimate?*"
   ]
  },
  {
   "cell_type": "code",
   "execution_count": 95,
   "metadata": {},
   "outputs": [
    {
     "data": {
      "text/plain": [
       "count    3.210000e+02\n",
       "mean     7.251005e+05\n",
       "std      4.493897e+05\n",
       "min      2.224200e+05\n",
       "25%      4.492000e+05\n",
       "50%      6.140000e+05\n",
       "75%      8.518000e+05\n",
       "max      4.290900e+06\n",
       "Name: Zestimate, dtype: float64"
      ]
     },
     "execution_count": 95,
     "metadata": {},
     "output_type": "execute_result"
    }
   ],
   "source": [
    "df_properties_full.Zestimate.describe()"
   ]
  },
  {
   "cell_type": "code",
   "execution_count": 96,
   "metadata": {},
   "outputs": [
    {
     "data": {
      "image/png": "[encoded data removed]",
      "text/plain": [
       "<Figure size 432x288 with 1 Axes>"
      ]
     },
     "metadata": {
      "needs_background": "light"
     },
     "output_type": "display_data"
    }
   ],
   "source": [
    "sns.histplot(df_properties_full.Zestimate)\n",
    "plt.gca().xaxis.set_major_formatter(StrMethodFormatter('{x:,.0f}'))\n",
    "plt.xticks(rotation=45)\n",
    "plt.show()"
   ]
  },
  {
   "cell_type": "markdown",
   "metadata": {},
   "source": [
    "Technically there are some outliers in this column, but they don't seem to be due to error."
   ]
  },
  {
   "cell_type": "code",
   "execution_count": 97,
   "metadata": {},
   "outputs": [
    {
     "data": {
      "image/png": "[encoded data removed]",
      "text/plain": [
       "<Figure size 432x288 with 1 Axes>"
      ]
     },
     "metadata": {
      "needs_background": "light"
     },
     "output_type": "display_data"
    }
   ],
   "source": [
    "sns.histplot(df_properties_full.Price)\n",
    "plt.gca().xaxis.set_major_formatter(StrMethodFormatter('{x:,.0f}'))\n",
    "plt.xticks(rotation=45)\n",
    "plt.show()"
   ]
  },
  {
   "cell_type": "code",
   "execution_count": 98,
   "metadata": {},
   "outputs": [
    {
     "data": {
      "text/plain": [
       "0.25     469999.0\n",
       "0.50     649000.0\n",
       "0.75     899950.0\n",
       "0.80     997250.0\n",
       "0.90    1400000.0\n",
       "0.95    1799900.0\n",
       "0.99    3789400.0\n",
       "Name: Price, dtype: float64"
      ]
     },
     "execution_count": 98,
     "metadata": {},
     "output_type": "execute_result"
    }
   ],
   "source": [
    "df_properties_full.Price.quantile([0.25, 0.5, 0.75, 0.8, 0.9, 0.95, 0.99])"
   ]
  },
  {
   "cell_type": "code",
   "execution_count": 99,
   "metadata": {},
   "outputs": [
    {
     "data": {
      "text/html": [
       "<div>\n",
       "<style scoped>\n",
       "    .dataframe tbody tr th:only-of-type {\n",
       "        vertical-align: middle;\n",
       "    }\n",
       "\n",
       "    .dataframe tbody tr th {\n",
       "        vertical-align: top;\n",
       "    }\n",
       "\n",
       "    .dataframe thead th {\n",
       "        text-align: right;\n",
       "    }\n",
       "</style>\n",
       "<table border=\"1\" class=\"dataframe\">\n",
       "  <thead>\n",
       "    <tr style=\"text-align: right;\">\n",
       "      <th></th>\n",
       "      <th>Price</th>\n",
       "      <th>Living_Area</th>\n",
       "    </tr>\n",
       "  </thead>\n",
       "  <tbody>\n",
       "    <tr>\n",
       "      <th>0</th>\n",
       "      <td>18000000</td>\n",
       "      <td>5470</td>\n",
       "    </tr>\n",
       "    <tr>\n",
       "      <th>285</th>\n",
       "      <td>4855356</td>\n",
       "      <td>7236</td>\n",
       "    </tr>\n",
       "    <tr>\n",
       "      <th>290</th>\n",
       "      <td>4650000</td>\n",
       "      <td>6750</td>\n",
       "    </tr>\n",
       "    <tr>\n",
       "      <th>311</th>\n",
       "      <td>5895000</td>\n",
       "      <td>5734</td>\n",
       "    </tr>\n",
       "  </tbody>\n",
       "</table>\n",
       "</div>"
      ],
      "text/plain": [
       "        Price  Living_Area\n",
       "0    18000000         5470\n",
       "285   4855356         7236\n",
       "290   4650000         6750\n",
       "311   5895000         5734"
      ]
     },
     "execution_count": 99,
     "metadata": {},
     "output_type": "execute_result"
    }
   ],
   "source": [
    "#check price and living area for the last percentile\n",
    "df_properties_full.loc[df_properties_full.Price > 3789400, ['Price', 'Living_Area']]"
   ]
  },
  {
   "cell_type": "code",
   "execution_count": 100,
   "metadata": {},
   "outputs": [
    {
     "data": {
      "text/plain": [
       "Price          649000.0\n",
       "Living_Area      1820.0\n",
       "dtype: float64"
      ]
     },
     "execution_count": 100,
     "metadata": {},
     "output_type": "execute_result"
    }
   ],
   "source": [
    "round(df_properties_full[['Price', 'Living_Area']].median())"
   ]
  },
  {
   "cell_type": "markdown",
   "metadata": {},
   "source": [
    "These properties with extremely high prices do seem to have much larger living area than mean and median values for the dataset."
   ]
  },
  {
   "cell_type": "code",
   "execution_count": 101,
   "metadata": {},
   "outputs": [
    {
     "data": {
      "image/png": "[encoded data removed]",
      "text/plain": [
       "<Figure size 432x288 with 1 Axes>"
      ]
     },
     "metadata": {
      "needs_background": "light"
     },
     "output_type": "display_data"
    }
   ],
   "source": [
    "sns.histplot(df_properties_full.Rent_Zestimate)\n",
    "plt.gca().xaxis.set_major_formatter(StrMethodFormatter('{x:,.0f}'))\n",
    "plt.xticks(rotation=0)\n",
    "plt.show()"
   ]
  },
  {
   "cell_type": "code",
   "execution_count": 102,
   "metadata": {},
   "outputs": [
    {
     "data": {
      "text/plain": [
       "0.25     2369.50\n",
       "0.50     2972.50\n",
       "0.75     3655.75\n",
       "0.80     4192.40\n",
       "0.90     4945.30\n",
       "0.95     6674.30\n",
       "0.99    11275.22\n",
       "Name: Rent_Zestimate, dtype: float64"
      ]
     },
     "execution_count": 102,
     "metadata": {},
     "output_type": "execute_result"
    }
   ],
   "source": [
    "df_properties_full.Rent_Zestimate.quantile([0.25, 0.5, 0.75, 0.8, 0.9, 0.95, 0.99])"
   ]
  },
  {
   "cell_type": "code",
   "execution_count": 103,
   "metadata": {},
   "outputs": [
    {
     "data": {
      "text/html": [
       "<div>\n",
       "<style scoped>\n",
       "    .dataframe tbody tr th:only-of-type {\n",
       "        vertical-align: middle;\n",
       "    }\n",
       "\n",
       "    .dataframe tbody tr th {\n",
       "        vertical-align: top;\n",
       "    }\n",
       "\n",
       "    .dataframe thead th {\n",
       "        text-align: right;\n",
       "    }\n",
       "</style>\n",
       "<table border=\"1\" class=\"dataframe\">\n",
       "  <thead>\n",
       "    <tr style=\"text-align: right;\">\n",
       "      <th></th>\n",
       "      <th>Rent_Zestimate</th>\n",
       "      <th>Living_Area</th>\n",
       "    </tr>\n",
       "  </thead>\n",
       "  <tbody>\n",
       "    <tr>\n",
       "      <th>0</th>\n",
       "      <td>2435.0</td>\n",
       "      <td>5470</td>\n",
       "    </tr>\n",
       "    <tr>\n",
       "      <th>285</th>\n",
       "      <td>20182.0</td>\n",
       "      <td>7236</td>\n",
       "    </tr>\n",
       "    <tr>\n",
       "      <th>290</th>\n",
       "      <td>16179.0</td>\n",
       "      <td>6750</td>\n",
       "    </tr>\n",
       "    <tr>\n",
       "      <th>311</th>\n",
       "      <td>22993.0</td>\n",
       "      <td>5734</td>\n",
       "    </tr>\n",
       "  </tbody>\n",
       "</table>\n",
       "</div>"
      ],
      "text/plain": [
       "     Rent_Zestimate  Living_Area\n",
       "0            2435.0         5470\n",
       "285         20182.0         7236\n",
       "290         16179.0         6750\n",
       "311         22993.0         5734"
      ]
     },
     "execution_count": 103,
     "metadata": {},
     "output_type": "execute_result"
    }
   ],
   "source": [
    "#check price and living area for the last percentile\n",
    "df_properties_full.loc[df_properties_full.Price > 3789400, ['Rent_Zestimate', 'Living_Area']]"
   ]
  },
  {
   "cell_type": "markdown",
   "metadata": {},
   "source": [
    "As in the case of *Price*, extreme values correspond to much larger than the median properties."
   ]
  },
  {
   "cell_type": "code",
   "execution_count": 104,
   "metadata": {},
   "outputs": [
    {
     "data": {
      "image/png": "[encoded data removed]",
      "text/plain": [
       "<Figure size 432x288 with 1 Axes>"
      ]
     },
     "metadata": {
      "needs_background": "light"
     },
     "output_type": "display_data"
    }
   ],
   "source": [
    "df_properties_full.groupby('Bathrooms')['Bathrooms'].count().plot.bar()\n",
    "plt.xticks(rotation=0)\n",
    "plt.show()"
   ]
  },
  {
   "cell_type": "code",
   "execution_count": 105,
   "metadata": {},
   "outputs": [
    {
     "data": {
      "image/png": "[encoded data removed]",
      "text/plain": [
       "<Figure size 432x288 with 1 Axes>"
      ]
     },
     "metadata": {
      "needs_background": "light"
     },
     "output_type": "display_data"
    }
   ],
   "source": [
    "df_properties_full.groupby('Bedrooms')['Bedrooms'].count().plot.bar()\n",
    "plt.xticks(rotation=0)\n",
    "plt.show()"
   ]
  },
  {
   "cell_type": "code",
   "execution_count": 106,
   "metadata": {},
   "outputs": [
    {
     "data": {
      "text/plain": [
       "<AxesSubplot:>"
      ]
     },
     "execution_count": 106,
     "metadata": {},
     "output_type": "execute_result"
    },
    {
     "data": {
      "image/png": "[encoded data removed]",
      "text/plain": [
       "<Figure size 432x288 with 1 Axes>"
      ]
     },
     "metadata": {
      "needs_background": "light"
     },
     "output_type": "display_data"
    }
   ],
   "source": [
    "df_properties_full.Living_Area.plot.box()"
   ]
  },
  {
   "cell_type": "markdown",
   "metadata": {},
   "source": [
    "There are some outliers in this column, but as we have already seen they tend to correlate with higher estimated value and price."
   ]
  },
  {
   "cell_type": "markdown",
   "metadata": {},
   "source": [
    "### Bool-type columns"
   ]
  },
  {
   "cell_type": "markdown",
   "metadata": {},
   "source": [
    " 16  Has_3D_Model    353 non-null    bool   \n",
    " 17  Has_Image       353 non-null    bool   \n",
    " 18  Has_Video       353 non-null    bool   \n",
    " 19  isZillowOwned   353 non-null    bool   "
   ]
  },
  {
   "cell_type": "code",
   "execution_count": 161,
   "metadata": {},
   "outputs": [
    {
     "data": {
      "text/plain": [
       "False    330\n",
       "True      23\n",
       "Name: Has_3D_Model, dtype: int64"
      ]
     },
     "execution_count": 161,
     "metadata": {},
     "output_type": "execute_result"
    }
   ],
   "source": [
    "df_properties_full.Has_3D_Model.value_counts()"
   ]
  },
  {
   "cell_type": "code",
   "execution_count": 162,
   "metadata": {},
   "outputs": [
    {
     "data": {
      "text/plain": [
       "True    353\n",
       "Name: Has_Image, dtype: int64"
      ]
     },
     "execution_count": 162,
     "metadata": {},
     "output_type": "execute_result"
    }
   ],
   "source": [
    "df_properties_full.Has_Image.value_counts()"
   ]
  },
  {
   "cell_type": "code",
   "execution_count": 163,
   "metadata": {},
   "outputs": [
    {
     "data": {
      "text/plain": [
       "False    342\n",
       "True      11\n",
       "Name: Has_Video, dtype: int64"
      ]
     },
     "execution_count": 163,
     "metadata": {},
     "output_type": "execute_result"
    }
   ],
   "source": [
    "df_properties_full.Has_Video.value_counts()"
   ]
  },
  {
   "cell_type": "code",
   "execution_count": 165,
   "metadata": {},
   "outputs": [
    {
     "data": {
      "text/plain": [
       "False    353\n",
       "Name: isZillowOwned, dtype: int64"
      ]
     },
     "execution_count": 165,
     "metadata": {},
     "output_type": "execute_result"
    }
   ],
   "source": [
    "df_properties_full.isZillowOwned.value_counts()"
   ]
  },
  {
   "cell_type": "markdown",
   "metadata": {},
   "source": [
    "All properties have images and none is owned by Zillow. Hence *Has_Image* and *isZillowOwned* columns are not informative and can be dropped."
   ]
  },
  {
   "cell_type": "code",
   "execution_count": 166,
   "metadata": {},
   "outputs": [],
   "source": [
    "df_properties_full.drop(['Has_Image', 'isZillowOwned'], axis=1, inplace=True)"
   ]
  },
  {
   "cell_type": "code",
   "execution_count": 169,
   "metadata": {},
   "outputs": [
    {
     "data": {
      "text/plain": [
       "(353, 15)"
      ]
     },
     "execution_count": 169,
     "metadata": {},
     "output_type": "execute_result"
    }
   ],
   "source": [
    "df_properties_full.shape"
   ]
  },
  {
   "cell_type": "markdown",
   "metadata": {},
   "source": [
    "A total of 8 uninformative columns were dropped from this dataframe, leaving the following columns:"
   ]
  },
  {
   "cell_type": "code",
   "execution_count": 172,
   "metadata": {},
   "outputs": [
    {
     "name": "stdout",
     "output_type": "stream",
     "text": [
      "Url, Zestimate, Price, Rent_Zestimate, Bathrooms, Bedrooms, Living_Area, Street_Address, City, Zip, Broker_Name, Has_3D_Model, Has_Video, statusText, Pool\n"
     ]
    }
   ],
   "source": [
    "print(*list(df_properties_full.columns), sep=', ')"
   ]
  },
  {
   "cell_type": "code",
   "execution_count": 174,
   "metadata": {},
   "outputs": [],
   "source": [
    "df_airbnb_complete.to_csv('airbnb_listings_CA.csv', sep=';')\n",
    "df_properties_full.to_csv('properties_for_sale_CA.csv', sep=';')"
   ]
  }
 ],
 "metadata": {
  "kernelspec": {
   "display_name": "Python 3",
   "language": "python",
   "name": "python3"
  },
  "language_info": {
   "codemirror_mode": {
    "name": "ipython",
    "version": 3
   },
   "file_extension": ".py",
   "mimetype": "text/x-python",
   "name": "python",
   "nbconvert_exporter": "python",
   "pygments_lexer": "ipython3",
   "version": "3.8.5"
  }
 },
 "nbformat": 4,
 "nbformat_minor": 4
}
